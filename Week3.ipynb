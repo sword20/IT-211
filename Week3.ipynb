{
  "nbformat": 4,
  "nbformat_minor": 0,
  "metadata": {
    "colab": {
      "name": "Week3.ipynb",
      "private_outputs": true,
      "provenance": [],
      "collapsed_sections": [],
      "include_colab_link": true
    },
    "kernelspec": {
      "name": "python3",
      "display_name": "Python 3"
    }
  },
  "cells": [
    {
      "cell_type": "markdown",
      "metadata": {
        "id": "view-in-github",
        "colab_type": "text"
      },
      "source": [
        "<a href=\"https://colab.research.google.com/github/sword20/IT-211/blob/main/Week3.ipynb\" target=\"_parent\"><img src=\"https://colab.research.google.com/assets/colab-badge.svg\" alt=\"Open In Colab\"/></a>"
      ]
    },
    {
      "cell_type": "markdown",
      "metadata": {
        "id": "7yiqcKoEDvYr"
      },
      "source": [
        "This is a place for your notes and code examples.  Here's a demo, which you should feel free to delete:\n",
        "<br>\n",
        "<br>\n",
        "<br>"
      ]
    },
    {
      "cell_type": "markdown",
      "metadata": {
        "id": "huNOKsZtwW9U"
      },
      "source": [
        "\r\n",
        "the if Statement Use the if statement to specify a block of Java code to be executed if a condition is true.\r\n",
        "\r\n",
        "Syntax if (condition) { // block of code to be executed if the condition is true }\r\n",
        "\r\n",
        "The else Statement Use the else statement to specify a block of code to be executed if the condition is false.\r\n",
        "\r\n",
        "Syntax if (condition) { // block of code to be executed if the condition is true } else { // block of code to be executed if the condition is false }\r\n",
        "\r\n",
        "The else if Statement Use the else if statement to specify a new condition if the first condition is false.\r\n",
        "\r\n",
        "Syntax if (condition1) { // block of code to be executed if condition1 is true } else if (condition2) { // block of code to be executed if the condition1 is false and condition2 is true } else { // block of code to be executed if the condition1 is false and condition2 is false }"
      ]
    },
    {
      "cell_type": "code",
      "metadata": {
        "id": "KBIfGoxzph-X"
      },
      "source": [
        "%%writefile Input.java\r\n",
        "import java.util.Scanner;\r\n",
        "\r\n",
        "// Goal: Build a Calculator\r\n",
        "//Expectation: punch in numbers instead of being prompted (maybe promoted once, but not twice)\r\n",
        "//Expectation: only reults of operator punched in\r\n",
        "// ? Scientific notation translator: 9.313225746154785E20 931322574615478500000 (example)\r\n",
        "//Figure out how to enter something like: 2 + 4 and get just 6 as the output.\r\n",
        "//If/then & Switch\r\n",
        "\r\n",
        "public class Input {                          \r\n",
        "    public static void main(String [] args) {  \r\n",
        "        Scanner randomScanner = new Scanner(System.in);       // Create a Scanner object\r\n",
        "\r\n",
        "        System.out.println(\"Enter your first number:\");       // Scans for first number and stores it as firstNumber.\r\n",
        "        double firstNumber = randomScanner.nextDouble();\r\n",
        "\r\n",
        "        System.out.println(\"Enter your operator:\");\r\n",
        "        String operator = randomScanner.next();\r\n",
        "\r\n",
        "        System.out.println(\"Enter your second number:\");      // Scans for second number and stores it as secondNumber.\r\n",
        "        double secondNumber = randomScanner.nextDouble();\r\n",
        "\r\n",
        "        if (operator.equals(\"+\")) {\r\n",
        "            double myAnswer = firstNumber + secondNumber;\r\n",
        "            System.out.println(myAnswer);\r\n",
        "        }else if (operator.equals(\"-\")){\r\n",
        "            double myAnswer2 = firstNumber - secondNumber; \r\n",
        "            System.out.println(myAnswer2);\r\n",
        "        }else if (operator.equals(\"*\")){\r\n",
        "            double myAnswer3 = firstNumber * secondNumber; \r\n",
        "            System.out.println(myAnswer3);\r\n",
        "        }else if (operator.equals(\"/\")){\r\n",
        "            double myAnswer4 = firstNumber / secondNumber; \r\n",
        "            System.out.println(myAnswer4);\r\n",
        "        }else if (operator.equals(\"^\")){\r\n",
        "            double myAnswer5 = Math.pow(firstNumber, secondNumber); \r\n",
        "            System.out.println(myAnswer5);\r\n",
        "        }else{\r\n",
        "            System.out.println(\"We do not have tha functionality yet. Check back soon\");\r\n",
        "        }\r\n",
        "\r\n",
        "\r\n",
        "        //double myAnswer = firstNumber + secondNumber;             // Adds those numbers together and stores the answer as myAnswer.\r\n",
        "        //double myAnswer2 = firstNumber - secondNumber;            //Subtracts second number from first\r\n",
        "        //double myAnswer3 = firstNumber * secondNumber;            //Multiplies first number by second\r\n",
        "        //double myAnswer4 = firstNumber / secondNumber;            //Divides first number by second number\r\n",
        "        //double myAnswer5 = Math.pow(firstNumber, secondNumber);   //Raise the first number to the power of the second number\r\n",
        "\r\n",
        "       \r\n",
        "        //System.out.println(\"My first number is \" + firstNumber + \".\\nMy second number is \" + secondNumber + \".\\nAddition: \" + myAnswer + \".\\nSubtraction: \" + myAnswer2 + \".\\nMultiplication: \" + myAnswer3 + \".\\nDivision: \" + myAnswer4 + \". \\nExponent: \" + myAnswer5 + \".\");\r\n",
        "\r\n",
        "  }\r\n",
        "}"
      ],
      "execution_count": null,
      "outputs": []
    },
    {
      "cell_type": "code",
      "metadata": {
        "id": "Qs8a1P3MqIrL"
      },
      "source": [
        "!javac Input.java\r\n",
        "!echo -e \"5.0\\n/\\n30.0\" > test\r\n",
        "!java Input < test"
      ],
      "execution_count": null,
      "outputs": []
    },
    {
      "cell_type": "markdown",
      "metadata": {
        "id": "ZWT98lbR4HLr"
      },
      "source": [
        "**Wednesday Class**"
      ]
    },
    {
      "cell_type": "code",
      "metadata": {
        "id": "d3GGkULmwHFk"
      },
      "source": [
        "%%writefile Input.java\r\n",
        "import java.util.Scanner;\r\n",
        "\r\n",
        "// Goal: Build a Calculator\r\n",
        "//Expectation: punch in numbers instead of being prompted (maybe promoted once, but not twice)\r\n",
        "//Expectation: only reults of operator punched in\r\n",
        "// ? Scientific notation translator: 9.313225746154785E20 931322574615478500000 (example)\r\n",
        "//Figure out how to enter something like: 2 + 4 and get just 6 as the output.\r\n",
        "//If/then & Switch\r\n",
        "\r\n",
        "public class Input {                          \r\n",
        "    public static void main(String [] args) {  \r\n",
        "        Scanner randomScanner = new Scanner(System.in);       // Create a Scanner object\r\n",
        "\r\n",
        "        System.out.println(\"Enter your first number:\");       // Scans for first number and stores it as firstNumber.\r\n",
        "        double firstNumber = randomScanner.nextDouble();\r\n",
        "\r\n",
        "        System.out.println(\"Enter your operator:\");\r\n",
        "        String operator = randomScanner.next();\r\n",
        "\r\n",
        "        System.out.println(\"Enter your second number:\");      // Scans for second number and stores it as secondNumber.\r\n",
        "        double secondNumber = randomScanner.nextDouble();\r\n",
        "\r\n",
        "      \r\n",
        "\r\n",
        "        switch (operator) {\r\n",
        "            case \"+\":\r\n",
        "              double myAnswer = firstNumber + secondNumber;\r\n",
        "              System.out.println(myAnswer);\r\n",
        "              break;\r\n",
        "            case \"-\":\r\n",
        "              double myAnswer2 = firstNumber - secondNumber;\r\n",
        "              System.out.println(myAnswer2);\r\n",
        "              break;\r\n",
        "            case \"*\":\r\n",
        "              double myAnswer3 = firstNumber * secondNumber;\r\n",
        "              System.out.println(myAnswer3);\r\n",
        "            break;\r\n",
        "            case \"/\":\r\n",
        "              double myAnswer4 = firstNumber / secondNumber;\r\n",
        "              System.out.println(myAnswer4);\r\n",
        "            break;\r\n",
        "            case \"^\":\r\n",
        "              double myAnswer5 = Math.pow(firstNumber, secondNumber);\r\n",
        "              System.out.println(myAnswer5);\r\n",
        "            break;\r\n",
        "        }\r\n",
        "        //double myAnswer = firstNumber + secondNumber;             // Adds those numbers together and stores the answer as myAnswer.\r\n",
        "        //double myAnswer2 = firstNumber - secondNumber;            //Subtracts second number from first\r\n",
        "        //double myAnswer3 = firstNumber * secondNumber;            //Multiplies first number by second\r\n",
        "        //double myAnswer4 = firstNumber / secondNumber;            //Divides first number by second number\r\n",
        "        //double myAnswer5 = Math.pow(firstNumber, secondNumber);   //Raise the first number to the power of the second number\r\n",
        "\r\n",
        "       \r\n",
        "        //System.out.println(\"My first number is \" + firstNumber + \".\\nMy second number is \" + secondNumber + \".\\nAddition: \" + myAnswer + \".\\nSubtraction: \" + myAnswer2 + \".\\nMultiplication: \" + myAnswer3 + \".\\nDivision: \" + myAnswer4 + \". \\nExponent: \" + myAnswer5 + \".\");\r\n",
        "\r\n",
        "\r\n",
        "    }\r\n",
        "}"
      ],
      "execution_count": null,
      "outputs": []
    },
    {
      "cell_type": "code",
      "metadata": {
        "id": "XkqIwlDptbGj"
      },
      "source": [
        "!javac Input.java\r\n",
        "!echo -e \"25.0\\n-\\n30.0\" > test\r\n",
        "!java Input < test"
      ],
      "execution_count": null,
      "outputs": []
    },
    {
      "cell_type": "markdown",
      "metadata": {
        "id": "LBLOvUrm4AjI"
      },
      "source": [
        "**Thursday Class**"
      ]
    },
    {
      "cell_type": "markdown",
      "metadata": {
        "id": "VzCeDIJa2CgZ"
      },
      "source": [
        "\r\n",
        "\r\n",
        "*   Thinking of a number between 1 and 10\r\n",
        "*   Verify the number is between 1 and 10.\r\n",
        "*   Use an if statement to \"guess\" the number in as few steps as possible.\r\n",
        "\r\n",
        "\r\n",
        "\r\n",
        "\r\n",
        "\r\n"
      ]
    },
    {
      "cell_type": "code",
      "metadata": {
        "id": "rm1XX78rznSJ"
      },
      "source": [
        "//%%writefile Range.java\r\n",
        "\r\n",
        "if (x > 0 && x < 11) {\r\n",
        "      dothis(proceed with the program)\r\n",
        "  } else {\r\n",
        "     dothis (give a nice error)\r\n",
        "}\r\n"
      ],
      "execution_count": null,
      "outputs": []
    },
    {
      "cell_type": "code",
      "metadata": {
        "id": "BkRKGtMG5eE9"
      },
      "source": [
        "%%writefile Input.java\r\n",
        "import java.util.Scanner;\r\n",
        "\r\n",
        "public class Input {\r\n",
        "public static void main(String args[]) {\r\n",
        "    Scanner keyboard = new Scanner(System.in);\r\n",
        "    int count = 0;\r\n",
        "    int a = 1 + (int) (Math.random() * 101);\r\n",
        "    int guess = 0;\r\n",
        "\r\n",
        "    System.out.println(\"I am thinking of a number from 1 to 100\"\r\n",
        "        + \" ... guess what it is ?\");\r\n",
        "\r\n",
        "    while (guess != a) {\r\n",
        "        guess = keyboard.nextInt();\r\n",
        "        count++;\r\n",
        "        if (guess > a) {\r\n",
        "            System.out.println(\"lower!\");\r\n",
        "        } else if (guess < a) {\r\n",
        "            System.out.println(\"higher!\");\r\n",
        "        }\r\n",
        "    }\r\n",
        "    System.out.println(\"Congratulations. You guessed the number with \"\r\n",
        "        + count + \" tries!\");\r\n",
        "}\r\n",
        "}"
      ],
      "execution_count": null,
      "outputs": []
    },
    {
      "cell_type": "code",
      "metadata": {
        "id": "uYjOSxLZw-wC"
      },
      "source": [
        "!javac Input.java\r\n",
        "!echo -e \"56\" >test\r\n",
        "!java Input < test"
      ],
      "execution_count": null,
      "outputs": []
    },
    {
      "cell_type": "code",
      "metadata": {
        "id": "For_ynlI7dGF"
      },
      "source": [
        "%%writefile Range.java\r\n",
        "import java.util.Random;\r\n",
        "\r\n",
        "public class Range{\r\n",
        "    public static void main(String [] args){\r\n",
        "        //int x = 11;\r\n",
        "        Random rand = new Random();\r\n",
        "        int max = 10;\r\n",
        "        int min = 1;\r\n",
        "        // How to auto-generate a random number for testing your algorythm\r\n",
        "        int x = rand.nextInt(max - min + 1) + min;\r\n",
        "        \r\n",
        "        if (x > 0 && x < 11) {\r\n",
        "                System.out.println(\"You matched the range! \" + x);\r\n",
        "        } else {\r\n",
        "                System.out.println(\"Please enter a number between 1 and 10 \" + x);\r\n",
        "        }\r\n",
        "    }\r\n",
        "}"
      ],
      "execution_count": null,
      "outputs": []
    },
    {
      "cell_type": "code",
      "metadata": {
        "id": "U40onljq4hXz"
      },
      "source": [
        "!javac Range.java\r\n",
        "!java Range < test"
      ],
      "execution_count": null,
      "outputs": []
    },
    {
      "cell_type": "markdown",
      "metadata": {
        "id": "YMj7V-Tw4go7"
      },
      "source": [
        "Java bugs you should know about: 10:04 Intiger overflow: (java doesn't throw an error, but your math will be off) https://javapapers.com/core-java/java-overflow-and-underflow/ Scanner: nextInt() before nextLine() causes odd behavior. Well explained at the bottom of Chapter 3 in the book and the workaround is to add an additional nextLine() before your functional nextLine() https://learning.oreilly.com/library/view/think-java-2nd/9781492072492/ch03.html#a0000002069 JavapapersJavapapers Java Overflow And Underflow - Javapapers Overflow and underflow is a condition where you cross the limit of prescribed size for a data type. When overflow or underflow condition is reached, either the program will crash or the underlying implementation of the programming language will have its own way of handing things. In Java arithmetic operators don’t report overflow and underflow }"
      ]
    },
    {
      "cell_type": "code",
      "metadata": {
        "id": "C1iwTduXEVFm"
      },
      "source": [
        "%%writefile MyNotes.java\n",
        "public class MyNotes {\n",
        "    public static void main (String[] args) {\n",
        "        System.out.println (\"My notes have working code in them!\");\n",
        "    }\n",
        "}"
      ],
      "execution_count": null,
      "outputs": []
    },
    {
      "cell_type": "code",
      "metadata": {
        "id": "jRzZxWlTEgN7"
      },
      "source": [
        "!javac MyNotes.java\n",
        "!java MyNotes"
      ],
      "execution_count": null,
      "outputs": []
    },
    {
      "cell_type": "markdown",
      "metadata": {
        "id": "CER-3tJ3Dotl"
      },
      "source": [
        "You only need to run the code below if you want to use Java 12. You won't need the special new properties of Java 12 for most of the class, but be aware that our GitHub Classroom tests run on Java 12."
      ]
    },
    {
      "cell_type": "code",
      "metadata": {
        "id": "jT9yfcqCDeC5"
      },
      "source": [
        "!sudo add-apt-repository ppa:openjdk-r/ppa -y\n",
        "!sudo apt-get update -y -q\n",
        "!sudo apt-get install openjdk-12-jre-headless -y -q\n",
        "!echo \"0\" | sudo update-alternatives --config java\n",
        "!java -version"
      ],
      "execution_count": null,
      "outputs": []
    }
  ]
}