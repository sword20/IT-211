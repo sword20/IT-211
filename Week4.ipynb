{
  "nbformat": 4,
  "nbformat_minor": 0,
  "metadata": {
    "colab": {
      "name": "Week4.ipynb",
      "private_outputs": true,
      "provenance": [],
      "collapsed_sections": [],
      "include_colab_link": true
    },
    "kernelspec": {
      "name": "python3",
      "display_name": "Python 3"
    }
  },
  "cells": [
    {
      "cell_type": "markdown",
      "metadata": {
        "id": "view-in-github",
        "colab_type": "text"
      },
      "source": [
        "<a href=\"https://colab.research.google.com/github/sword20/IT-211/blob/main/Week4.ipynb\" target=\"_parent\"><img src=\"https://colab.research.google.com/assets/colab-badge.svg\" alt=\"Open In Colab\"/></a>"
      ]
    },
    {
      "cell_type": "markdown",
      "metadata": {
        "id": "7yiqcKoEDvYr"
      },
      "source": [
        "This is a place for your notes and code examples.  Here's a demo, which you should feel free to delete:\n",
        "<br>\n",
        "<br>\n",
        "<br>"
      ]
    },
    {
      "cell_type": "markdown",
      "metadata": {
        "id": "53V50hVpp78Y"
      },
      "source": [
        "**Monday**"
      ]
    },
    {
      "cell_type": "code",
      "metadata": {
        "id": "z5hiwAPHqC_G"
      },
      "source": [
        "for (initialization; test; increment/decrement)\r\n",
        "{\r\n",
        "    loop body statement(s)\r\n",
        "}"
      ],
      "execution_count": null,
      "outputs": []
    },
    {
      "cell_type": "code",
      "metadata": {
        "id": "2ETJHFLzrylj"
      },
      "source": [
        "%%writefile Loops.java\r\n",
        "public class Loops{\r\n",
        "    public static void main(String [] args){\r\n",
        "        int num  = 5;\r\n",
        "        while (num < 10) {\r\n",
        "            System.out.println(\"our var's current value is \" + num + \" on the first line of the loop\");\r\n",
        "            System.out.println(\"now we will incrememt \" + num + \" by 1\");\r\n",
        "            num ++;\r\n",
        "            System.out.println(\"now our var is equal to \" + num + \".\");\r\n",
        "            System.out.println(\"---------------------------------------------\");\r\n",
        "        }\r\n",
        "    }\r\n",
        "}"
      ],
      "execution_count": null,
      "outputs": []
    },
    {
      "cell_type": "code",
      "metadata": {
        "id": "US6PRu51r0KJ"
      },
      "source": [
        "!javac Loops.java\r\n",
        "!java Loops"
      ],
      "execution_count": null,
      "outputs": []
    },
    {
      "cell_type": "code",
      "metadata": {
        "id": "FFNnq-YJr5tC"
      },
      "source": [
        "%%writefile For.java\r\n",
        "public class For{\r\n",
        "    public static void main(String [] args){\r\n",
        "        String myString = \"I am a string!\";\r\n",
        "        \r\n",
        "        System.out.println(\"Letter     Position     Ascii\");\r\n",
        "        for (int i = 0; i < myString.length(); i++) {             /* first segment (int i = 0;) sets the value of i\r\n",
        "                                                                     second segment (i < myString.length();) sets the continuation conditions\r\n",
        "                                                                     third segment (i++) sets the action performed when the loop is finished\r\n",
        "                                                                  */\r\n",
        "                                                     \r\n",
        "            char charByChar = myString.charAt(i);                 /* Here we are putting the string value at position i into a char variable called\r\n",
        "                                                                     charBychar. Remember that chars can only hold one letter or symbol at a time.\r\n",
        "                                                                  */       \r\n",
        "            int castAscii = (int) charByChar;                     /* We are converting our character variable to an ascii code stored in the\r\n",
        "                                                                     castAscii variable.  Converting a var from one tye to another is called\r\n",
        "                                                                     \"casting\"\r\n",
        "                                                                  */\r\n",
        "            \r\n",
        "            System.out.println(\"  \" + charByChar + \"           \" + i + \"          \" + castAscii);\r\n",
        "            // If we want this printed all on the same line, we can change println to print\r\n",
        "            // See how the numbers above cause formatting issues?  We can fix that with some alignment\r\n",
        "            \r\n",
        "            // System.out.printf(\"  \" + charByChar + \"        %4d          \" + castAscii + \"%n\",i);\r\n",
        "            // What are the different formatting guidelines we're learning here?\r\n",
        "            // The even better way is to use string.format()\r\n",
        "        } \r\n",
        "    }\r\n",
        "}"
      ],
      "execution_count": null,
      "outputs": []
    },
    {
      "cell_type": "code",
      "metadata": {
        "id": "tHQFh8L7r-lo"
      },
      "source": [
        "!javac For.java\r\n",
        "!java For"
      ],
      "execution_count": null,
      "outputs": []
    },
    {
      "cell_type": "markdown",
      "metadata": {
        "id": "JJfYwG3E7lBI"
      },
      "source": [
        "**Wednesday Class**"
      ]
    },
    {
      "cell_type": "code",
      "metadata": {
        "id": "QfIspYMLskkM"
      },
      "source": [
        "%%writefile ForLoop.java\r\n",
        "public class ForLoop{\r\n",
        "    public static void main(String [] args) {\r\n",
        "      for (int count = 0; count > -10; count--) {\r\n",
        "          System.out.println(\"The count is now \" + count);\r\n",
        "      }\r\n",
        "    }\r\n",
        "}"
      ],
      "execution_count": null,
      "outputs": []
    },
    {
      "cell_type": "code",
      "metadata": {
        "id": "5FPQ5WELtlbm"
      },
      "source": [
        "!javac ForLoop.java\r\n",
        "!java ForLoop"
      ],
      "execution_count": null,
      "outputs": []
    },
    {
      "cell_type": "code",
      "metadata": {
        "id": "8kFWguN-xQ1H"
      },
      "source": [
        "%%writefile Fibonacci.java\r\n",
        "public class Fibonacci {\r\n",
        "\r\n",
        "    public static void main(String[] args) {\r\n",
        "\r\n",
        "        long count = 50, num1 = 0, num2 = 1;\r\n",
        "        System.out.println(\"Fibonacci Series of \" + count + \" numbers:\");\r\n",
        "\r\n",
        "        for (long i = 1; i <= count; ++i) {\r\n",
        "            System.out.println(num1 + \" \");\r\n",
        "\r\n",
        "            long sumOfPrevTwo = num1 + num2;\r\n",
        "            num1 = num2;\r\n",
        "            num2 = sumOfPrevTwo;\r\n",
        "        }\r\n",
        "    }\r\n",
        "}"
      ],
      "execution_count": null,
      "outputs": []
    },
    {
      "cell_type": "code",
      "metadata": {
        "id": "gsUfY7IBxcbW"
      },
      "source": [
        "!javac Fibonacci.java\r\n",
        "!java Fibonacci"
      ],
      "execution_count": null,
      "outputs": []
    },
    {
      "cell_type": "code",
      "metadata": {
        "id": "2HFW8hJi7Uv1"
      },
      "source": [
        "%%writefile Loops.java\r\n",
        "public class Loops{\r\n",
        "    public static void main(String [] args){\r\n",
        "        int num  = 5;\r\n",
        "        int num2 = 0;\r\n",
        "\r\n",
        "        while (num < 20) {\r\n",
        "            System.out.println(\"our var's current value is \" + num + \" on the first line of the loop\");\r\n",
        "            System.out.println(\"now we will incrememt \" + num + \" by 1\");\r\n",
        "            num ++;\r\n",
        "            num2 ++;\r\n",
        "            System.out.println(\"now our var is equal to \" + num + \".\");\r\n",
        "            System.out.println(\"---------------------------------------------\");\r\n",
        "        }\r\n",
        "    }\r\n",
        "}"
      ],
      "execution_count": null,
      "outputs": []
    },
    {
      "cell_type": "code",
      "metadata": {
        "id": "IjUO31pU7hhE"
      },
      "source": [
        "!javac Loops.java\r\n",
        "!java Loops"
      ],
      "execution_count": null,
      "outputs": []
    },
    {
      "cell_type": "markdown",
      "metadata": {
        "id": "5ctxz3bB3RId"
      },
      "source": [
        "**Thursday Class**"
      ]
    },
    {
      "cell_type": "code",
      "metadata": {
        "id": "g28h1Vq-3Uvt"
      },
      "source": [
        "%%writefile For.java\r\n",
        "public class For{\r\n",
        "    public static void main(String [] args){\r\n",
        "        int count = 0;\r\n",
        "          System.out.println(\"Begining of While Loop:\");\r\n",
        "\r\n",
        "        while (count < 10){\r\n",
        "            System.out.println(count);\r\n",
        "            count++;\r\n",
        "        }\r\n",
        "\r\n",
        "          System.out.println(\"Begining of For Loop:\");\r\n",
        "\r\n",
        "        for (int count1 = 0; count1 < 10; count1++){\r\n",
        "            System.out.println(count1);\r\n",
        "        }\r\n",
        "    }\r\n",
        "}"
      ],
      "execution_count": null,
      "outputs": []
    },
    {
      "cell_type": "code",
      "metadata": {
        "id": "xLMb1sLS3xMe"
      },
      "source": [
        "!javac For.java\r\n",
        "!java For"
      ],
      "execution_count": null,
      "outputs": []
    },
    {
      "cell_type": "markdown",
      "metadata": {
        "id": "REfM6dLx6LjP"
      },
      "source": [
        "Class Exercise - While loop with scanner input."
      ]
    },
    {
      "cell_type": "code",
      "metadata": {
        "id": "E64DaNqf6JvP"
      },
      "source": [
        "%%writefile scanWhile.java\r\n",
        "import java.util.Scanner;\r\n",
        "  public class scanWhile {\r\n",
        "      public static void main(String [] args) {  \r\n",
        "        Scanner scnr = new Scanner(System.in);\r\n",
        "\r\n",
        "        String word = scnr.nextLine();\r\n",
        "        \r\n",
        "\r\n",
        "        while (true) { \r\n",
        "            System.out.print(word);\r\n",
        "            String s1 = scnr.next();\r\n",
        "        if  (s1.equals(\"exit\")) {\r\n",
        "            break;\r\n",
        "          }\r\n",
        "        }\r\n",
        "\r\n",
        "      }\r\n",
        "  }\r\n"
      ],
      "execution_count": null,
      "outputs": []
    },
    {
      "cell_type": "code",
      "metadata": {
        "id": "mnE0R9MS6QvJ"
      },
      "source": [
        "!javac scanWhile.java\r\n",
        "!echo -e \"What is up? \\n exit\" > test\r\n",
        "!java scanWhile < test"
      ],
      "execution_count": null,
      "outputs": []
    },
    {
      "cell_type": "code",
      "metadata": {
        "id": "C1iwTduXEVFm"
      },
      "source": [
        "%%writefile MyNotes.java\n",
        "public class MyNotes {\n",
        "    public static void main (String[] args) {\n",
        "        System.out.println (\"My notes have working code in them!\");\n",
        "    }\n",
        "}"
      ],
      "execution_count": null,
      "outputs": []
    },
    {
      "cell_type": "code",
      "metadata": {
        "id": "jRzZxWlTEgN7"
      },
      "source": [
        "!javac MyNotes.java\n",
        "!java MyNotes"
      ],
      "execution_count": null,
      "outputs": []
    },
    {
      "cell_type": "markdown",
      "metadata": {
        "id": "CER-3tJ3Dotl"
      },
      "source": [
        "You only need to run the code below if you want to use Java 12. You won't need the special new properties of Java 12 for most of the class, but be aware that our GitHub Classroom tests run on Java 12."
      ]
    },
    {
      "cell_type": "code",
      "metadata": {
        "id": "jT9yfcqCDeC5"
      },
      "source": [
        "!sudo add-apt-repository ppa:openjdk-r/ppa -y\n",
        "!sudo apt-get update -y -q\n",
        "!sudo apt-get install openjdk-12-jre-headless -y -q\n",
        "!echo \"0\" | sudo update-alternatives --config java\n",
        "!java -version"
      ],
      "execution_count": null,
      "outputs": []
    }
  ]
}