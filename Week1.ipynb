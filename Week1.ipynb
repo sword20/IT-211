{
  "nbformat": 4,
  "nbformat_minor": 0,
  "metadata": {
    "colab": {
      "name": "Week1.ipynb",
      "private_outputs": true,
      "provenance": [],
      "collapsed_sections": [],
      "include_colab_link": true
    },
    "kernelspec": {
      "name": "python3",
      "display_name": "Python 3"
    }
  },
  "cells": [
    {
      "cell_type": "markdown",
      "metadata": {
        "id": "view-in-github",
        "colab_type": "text"
      },
      "source": [
        "<a href=\"https://colab.research.google.com/github/sword20/IT-211/blob/main/Week1.ipynb\" target=\"_parent\"><img src=\"https://colab.research.google.com/assets/colab-badge.svg\" alt=\"Open In Colab\"/></a>"
      ]
    },
    {
      "cell_type": "markdown",
      "metadata": {
        "id": "7yiqcKoEDvYr"
      },
      "source": [
        "Week 1\n",
        "This is a place for your notes and code examples.  Here's a demo, which you should feel free to delete:\n",
        "<br>\n",
        "<br>\n",
        "<br>"
      ]
    },
    {
      "cell_type": "markdown",
      "metadata": {
        "id": "Rzvoj030u_DI"
      },
      "source": [
        "1) Question: The name of the class is example. What does it mean that it's public?\r\n",
        "\r\n",
        "Answer: It is visible to the public and can be viewed by everyone. Gives access to all.\r\n",
        "\r\n",
        "2) Question: What about static & void?\r\n",
        "\r\n",
        "Answer:Static means it is associated with a class and not a specific instance. Void does not have a return value.\r\n",
        "\r\n",
        "3) Question: What's with the String [] args?\r\n",
        "\r\n",
        "Answer: These are the string type of arguments that the application will accept when run.\r\n",
        "\r\n",
        "4) Question: We print \"My name is \" (note the space between the quotes and the is) and then add the var. What does this do?\r\n",
        "\r\n",
        "Answer: Providing a space will indicate that there is a space between the statement and the variable. Having the + let's it know to add the name after what is in the quotation marks. Name = Nicole, so the outcome will be: My name is Nicole"
      ]
    },
    {
      "cell_type": "code",
      "metadata": {
        "id": "tWjWdXE8uztL"
      },
      "source": [
        "%%writefile Example.java\r\n",
        "\r\n",
        "public class Example {                                            // The name of the class is example. What does it mean that it's public?\r\n",
        "\r\n",
        "  public static void main(String [] args) {                       // Here's our main statement. Again, it is public, what does that mean? What about static & void? What's with the String [] args?\r\n",
        "\r\n",
        "    String name;                                                  // We declare the variable name as a string\r\n",
        "\r\n",
        "    name = \"nicole\";                                              // We assign a name to it\r\n",
        "\r\n",
        "    System.out.println(\"My name is \" + name);                     // We print \"My name is \" (note the space between the quotes and the is) and then add the var. What does this do?\r\n",
        "  }\r\n",
        "\r\n",
        "}"
      ],
      "execution_count": null,
      "outputs": []
    },
    {
      "cell_type": "code",
      "metadata": {
        "id": "C1iwTduXEVFm"
      },
      "source": [
        "%%writefile MyNotes.java\n",
        "public class MyNotes {\n",
        "    public static void main (String[] args) {\n",
        "        System.out.println (\"My notes have working code in them!\");\n",
        "    }\n",
        "}"
      ],
      "execution_count": null,
      "outputs": []
    },
    {
      "cell_type": "code",
      "metadata": {
        "id": "jRzZxWlTEgN7"
      },
      "source": [
        "!javac MyNotes.java\n",
        "!java MyNotes"
      ],
      "execution_count": null,
      "outputs": []
    },
    {
      "cell_type": "markdown",
      "metadata": {
        "id": "CER-3tJ3Dotl"
      },
      "source": [
        "You only need to run the code below if you want to use Java 12. You won't need the special new properties of Java 12 for most of the class, but be aware that our GitHub Classroom tests run on Java 12."
      ]
    },
    {
      "cell_type": "code",
      "metadata": {
        "id": "jT9yfcqCDeC5"
      },
      "source": [
        "!sudo add-apt-repository ppa:openjdk-r/ppa -y\n",
        "!sudo apt-get update -y -q\n",
        "!sudo apt-get install openjdk-12-jre-headless -y -q\n",
        "!echo \"0\" | sudo update-alternatives --config java\n",
        "!java -version"
      ],
      "execution_count": null,
      "outputs": []
    }
  ]
}