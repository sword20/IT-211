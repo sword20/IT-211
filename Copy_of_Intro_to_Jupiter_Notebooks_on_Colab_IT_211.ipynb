{
  "nbformat": 4,
  "nbformat_minor": 0,
  "metadata": {
    "colab": {
      "name": "Copy of Intro to Jupiter Notebooks on Colab - IT-211.ipynb",
      "private_outputs": true,
      "provenance": [],
      "collapsed_sections": [],
      "include_colab_link": true
    },
    "kernelspec": {
      "name": "python3",
      "display_name": "Python 3"
    }
  },
  "cells": [
    {
      "cell_type": "markdown",
      "metadata": {
        "id": "view-in-github",
        "colab_type": "text"
      },
      "source": [
        "<a href=\"https://colab.research.google.com/github/sword20/IT-211/blob/main/Copy_of_Intro_to_Jupiter_Notebooks_on_Colab_IT_211.ipynb\" target=\"_parent\"><img src=\"https://colab.research.google.com/assets/colab-badge.svg\" alt=\"Open In Colab\"/></a>"
      ]
    },
    {
      "cell_type": "markdown",
      "metadata": {
        "id": "j_BQjpJRuhUS"
      },
      "source": [
        "#Welcome to IT 211!\n",
        "\n",
        "> Jupyter Notebooks allow you to take notes and run code at the same time.  They were developed for use in Machine Learning.  We're going to use them in this class as a way of keeping track of both notes and the code snipets we're working with.\n",
        "\n",
        "\n",
        "> Since they were written for use with Python, we will be writing our Java files to the file system using python, then tapping into the command line directly to compile and run our code.  \n",
        "\n",
        "*Note: This sounds very fancy and complicated, but it isn't.  I'll demo it quickly below and we'll go through it in class until it's second nature.*\n",
        "\n",
        "\n",
        "> Jupyter Notebooks can also be used as a test environment, though we will be using Eclypse in this class as well.\n",
        "\n",
        "\n",
        "##Here's how it works:"
      ]
    },
    {
      "cell_type": "markdown",
      "metadata": {
        "id": "kGCbiek9wWM9"
      },
      "source": [
        "###1. First, you'll open a code block and type `%%writefile` followed by the name of your java file.  For example:\n",
        "\n",
        " `%%writefile JavaIsGreat.java`\n",
        "\n",
        "###2. Then you'll type your code below it:\n",
        "\n",
        "```\n",
        "%%writefile JavaIsGreat.java\n",
        "public class Hello {\n",
        "    public static void main (String[] args) {\n",
        "        System.out.println (\"I love Java!\");\n",
        "    }\n",
        "}\n",
        "```\n",
        "<br>\n",
        "\n",
        "###3. Next, you'll create a new code cell to compile your code:\n",
        "\n",
        "`!javac JavaIsGreat.java`\n",
        "\n",
        "Note: the `!` lets us tap into the underlying operating system, which is running ubuntu 18.4.  We are actuall executing `javac javaIsGreat.java` on the command line of a linux container running in Google Cloud.\n",
        "\n",
        "<br>\n",
        "\n",
        "###4. Finally, we'll actually run our code:\n",
        "\n",
        "`!java JavaIsGreat`\n",
        "\n",
        "The output of the code will appear bellow the codeblock! See a demo below with Hello.java.\n",
        "\n",
        "   * To run each cell, click the arrow on the left, wait for it to complete, then run the next cell.\n",
        "\n",
        "*Tip: press the escape key to get out of the cell you're typing in and view the whole notebook. *italicized text*\n",
        "<br>\n",
        "<br>\n",
        "### **Summery: First you write the java file to the filesystem using Python, then you compile and run it on the command line.**\n"
      ]
    },
    {
      "cell_type": "markdown",
      "metadata": {
        "id": "H7ckOF1k753C"
      },
      "source": [
        "<br>\n",
        "<br>\n",
        "<br>\n",
        "Here's an example of a file called Hello.java that contains java code being written to the command line.  Press the arrow to write it."
      ]
    },
    {
      "cell_type": "code",
      "metadata": {
        "id": "uXbY1xlZlYcP"
      },
      "source": [
        "%%writefile Hello.java\n",
        "public class Hello {\n",
        "    public static void main (String[] args) {\n",
        "        System.out.println (\"Hello IT 211!\");\n",
        "    }\n",
        "}"
      ],
      "execution_count": null,
      "outputs": []
    },
    {
      "cell_type": "markdown",
      "metadata": {
        "id": "3xBCV4Xb8VgT"
      },
      "source": [
        "Here's an example of Hello.java being compiled and executed on the command line.  Press the arrow to compile and execute it."
      ]
    },
    {
      "cell_type": "code",
      "metadata": {
        "id": "ojR4vmhMlgad"
      },
      "source": [
        "!javac Hello.java\n",
        "!java Hello"
      ],
      "execution_count": null,
      "outputs": []
    },
    {
      "cell_type": "code",
      "metadata": {
        "id": "sPZpZCCgmbJB"
      },
      "source": [
        "%%writefile MyNotes.java\n",
        "public class MyNotes {\n",
        "    public static void main (String[] args) {\n",
        "        System.out.println (\"I am an example code block, nice to meet you!\");\n",
        "    }\n",
        "}"
      ],
      "execution_count": null,
      "outputs": []
    },
    {
      "cell_type": "code",
      "metadata": {
        "id": "Ynv1uS-I1W0w"
      },
      "source": [
        "!javac MyNotes.java\n",
        "!java MyNotes"
      ],
      "execution_count": null,
      "outputs": []
    },
    {
      "cell_type": "markdown",
      "metadata": {
        "id": "lYmxHcF-5gjE"
      },
      "source": [
        "\n",
        "\n",
        "-------------------------\n",
        "\n",
        "<br>\n",
        "<br>\n",
        "<br>\n",
        "\n"
      ]
    },
    {
      "cell_type": "markdown",
      "metadata": {
        "id": "TTsT4QnHt7cE"
      },
      "source": [
        "You only need to run the code below if you want to use Java 12.  You won't need the special new properties of Java 12 for most of the class, but be aware that our GitHub Classroom tests run on Java 12."
      ]
    },
    {
      "cell_type": "code",
      "metadata": {
        "id": "HkGBqI49j81b"
      },
      "source": [
        "!sudo add-apt-repository ppa:openjdk-r/ppa -y\n",
        "!sudo apt-get update -y -q\n",
        "!sudo apt-get install openjdk-12-jre-headless -y -q\n",
        "!echo \"0\" | sudo update-alternatives --config java\n",
        "!java -version\n",
        "\n"
      ],
      "execution_count": null,
      "outputs": []
    }
  ]
}