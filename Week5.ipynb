{
  "nbformat": 4,
  "nbformat_minor": 0,
  "metadata": {
    "colab": {
      "name": "Week5.ipynb",
      "private_outputs": true,
      "provenance": [],
      "collapsed_sections": [],
      "include_colab_link": true
    },
    "kernelspec": {
      "name": "python3",
      "display_name": "Python 3"
    }
  },
  "cells": [
    {
      "cell_type": "markdown",
      "metadata": {
        "id": "view-in-github",
        "colab_type": "text"
      },
      "source": [
        "<a href=\"https://colab.research.google.com/github/sword20/IT-211/blob/main/Week5.ipynb\" target=\"_parent\"><img src=\"https://colab.research.google.com/assets/colab-badge.svg\" alt=\"Open In Colab\"/></a>"
      ]
    },
    {
      "cell_type": "markdown",
      "metadata": {
        "id": "7yiqcKoEDvYr"
      },
      "source": [
        "Week 5\n",
        "\n",
        "This is a place for your notes and code examples.  Here's a demo, which you should feel free to delete:\n",
        "<br>\n",
        "<br>\n",
        "<br>"
      ]
    },
    {
      "cell_type": "markdown",
      "metadata": {
        "id": "yQAPcskjtBCw"
      },
      "source": [
        "Topics for notes:\r\n",
        "Arrays basic\r\n",
        "\r\n",
        "*   Delcaring and accessing elements\r\n",
        "*   Loops and arrays\r\n",
        "*   Iterating through arrays\r\n",
        "*   Enums\r\n",
        "*   Nested Loops\r\n",
        "\r\n",
        "\r\n",
        "\r\n",
        "\r\n",
        "\r\n",
        "\r\n",
        "\r\n"
      ]
    },
    {
      "cell_type": "markdown",
      "metadata": {
        "id": "c3NbomlR8OVL"
      },
      "source": [
        "ARRAY and ARRAY LIST\r\n",
        "\r\n",
        "* Array - an ordered list of 'elements'\r\n",
        "* ARRAY's length needs to be declared and it will then be permanent\r\n",
        "* ARRAY LIST does not apply to this rule but they have different limitations"
      ]
    },
    {
      "cell_type": "markdown",
      "metadata": {
        "id": "kH5LfYmru8uZ"
      },
      "source": [
        "**Tuesday Class**"
      ]
    },
    {
      "cell_type": "code",
      "metadata": {
        "id": "3vOK75o6tHeo"
      },
      "source": [
        "%%writefile Arrays.java\r\n",
        "public class Arrays{\r\n",
        "    public static void main(String [] args){\r\n",
        "        int [] intArray = new int[5];\r\n",
        "        char [] charArray = new char[26];\r\n",
        "        double [] doubleArray = new double[40];\r\n",
        "        String [] stringArray = new String[20];\r\n",
        "        long [] longArray = new long[50];\r\n",
        "\r\n",
        "        //datatype [] variableName;\r\n",
        "        //datatype [] vaiableName = new datatype[length];\r\n",
        "\r\n",
        "        char [] myCharArray = new char[26];\r\n",
        "        myCharArray[0] = 'a';\r\n",
        "        myCharArray[1] = 'b';\r\n",
        "        //System.out.println(myCharArray[1]);\r\n",
        "        char letter = 'a';\r\n",
        "\r\n",
        "        for (int i = 0; i < 26; i++){\r\n",
        "            myCharArray[i] = letter;\r\n",
        "            System.out.println(\"my int value is \" + i + \" my char value is \" + letter);\r\n",
        "            letter++;\r\n",
        "           // System.out.print(\" \" + myCharArray[i] + \",\");\r\n",
        "        }\r\n",
        "\r\n",
        "    }\r\n",
        "}"
      ],
      "execution_count": null,
      "outputs": []
    },
    {
      "cell_type": "code",
      "metadata": {
        "id": "rjtPIwYBtcYJ"
      },
      "source": [
        "!javac Arrays.java\r\n",
        "!java Arrays"
      ],
      "execution_count": null,
      "outputs": []
    },
    {
      "cell_type": "markdown",
      "metadata": {
        "id": "EJiz57SR5IS8"
      },
      "source": [
        "**Wednesday Class**\r\n",
        "\r\n",
        "* HackerRank: https://www.hackerrank.com/\r\n",
        "This one is addictive! I really like their algorithms section and the way their problems are set up. This one gives you badges and points and can connect to linkedin, facebook, etc.  \r\n",
        "* Top Coder: https://www.topcoder.com/community/practice\r\n",
        "Ties into more of a hiring infrastructure. There’s a gig work tab that will present basically short opportunities for you that might be good as resume builders. It is searchable. There’s competitive coding, in addition to practice challenges and some competitions with cash prizes.  \r\n",
        "* LeetCode: https://leetcode.com/problemset/all/\r\n",
        "Lots of problems, pick your difficulty and language. Also has contests and discussion boards. If I’m remembering right, this is the sight that does timed coding contests, which is kind of cool. You and the other competitors are given a time to log in, then given a problem and have a certain amount of time to solve it. Usually an hour or two.  \r\n",
        "* Project Euler (pronounced “oiler”): https://projecteuler.net\r\n",
        "Has a ton of interesting programming problems, but is focused on the crossover between programming and mathematics. This is a good place to practice, but also a good place to find answers to questions you might run into while working on a project.\r\n"
      ]
    },
    {
      "cell_type": "code",
      "metadata": {
        "id": "9IIXKflrwhJ3"
      },
      "source": [
        "%%writefile Arrays.java\r\n",
        "public class Arrays{\r\n",
        "    public static void main(String [] args){\r\n",
        "        String [] fruit = {\"apple\", \"orange\", \"peach\", \"pineapple\", \"dragon fruit\"};\r\n",
        "        int [] range = {1, 2, 3, 4, 5, 6, 7, 8, 9};\r\n",
        "        int [] rangeMultiplied = new int [9];\r\n",
        "        String [] fruit2 = fruit;\r\n",
        "\r\n",
        "\r\n",
        "        System.out.println(\"the value at index 0 for fruit is \" + fruit[0] + \" the value at index 0 for fruit 2 is \" + fruit2[0]);\r\n",
        "\r\n",
        "\r\n",
        "        fruit2 = fruit;\r\n",
        "        fruit[0] = \"popcorn\";\r\n",
        "\r\n",
        "        System.out.println(\"the value at index 0 for fruit is \" + fruit[0] + \" the value at index 0 for fruit 2 is \" + fruit2[0]);\r\n",
        "\r\n",
        "        fruit2[3] = \"race car\";\r\n",
        "\r\n",
        "        System.out.println(\"the value at index 0 for fruit is \" + fruit[3] + \" the value at index 0 for fruit 2 is \" + fruit2[3]);\r\n",
        "\r\n",
        "        String cities = \"Seattle, Tacoma, Pitsburg, Dallas\";\r\n",
        "        String [] citiesArr = cities.split(\", \");\r\n",
        "        //split on |,*:\r\n",
        "\r\n",
        "        for (String i : citiesArr){\r\n",
        "            System.out.println(i);\r\n",
        "        }\r\n",
        "\r\n",
        "        //for each\r\n",
        "        for (int value : range){ //for small arrays use these nested for loops\r\n",
        "           // System.out.println(value);\r\n",
        "            for (int i = 0; i < 9; i++){\r\n",
        "                //System.out.println(\"outer loop var: \" + value + \" inner loop var (i): \" + i);\r\n",
        "                \r\n",
        "            }\r\n",
        "        }\r\n",
        "\r\n",
        "        for (int i = 0; i < 9; i++){\r\n",
        "            int myValue = range[i];\r\n",
        "            System.out.println(myValue);\r\n",
        "        }\r\n",
        "\r\n",
        "\r\n",
        "        for (String item : fruit){\r\n",
        "            System.out.println(item);\r\n",
        "        }\r\n",
        "\r\n",
        "        System.out.println(\"Array range: \" + range + \" Array fruit: \" + fruit);\r\n",
        "    }\r\n",
        "}"
      ],
      "execution_count": null,
      "outputs": []
    },
    {
      "cell_type": "code",
      "metadata": {
        "id": "M1TILBZPxVMI"
      },
      "source": [
        "!javac Arrays.java\r\n",
        "!java Arrays"
      ],
      "execution_count": null,
      "outputs": []
    },
    {
      "cell_type": "code",
      "metadata": {
        "id": "32zMCYGO5Zms"
      },
      "source": [
        "%%writefile Demo.java\r\n",
        "import java.util.Scanner;\r\n",
        "public class Demo{\r\n",
        "    public static void main(String [] args){\r\n",
        "        Scanner in = new Scanner(System.in);\r\n",
        "        String [] input = new String [50];\r\n",
        "        int i = 0;\r\n",
        "        while(in.hasNextLine()) {\r\n",
        "            String myString = in.nextLine();\r\n",
        "            input[i] = myString;\r\n",
        "            System.out.println(\"idex: \" + i + \" myString: \" + myString);\r\n",
        "            i++;\r\n",
        "        }\r\n",
        "      \r\n",
        "    }\r\n",
        "}\r\n",
        "white_check_mark\r\n",
        "eyes\r\n",
        "raised_hands\r\n",
        "React\r\n",
        "Reply\r\n",
        "\r\n",
        "9:52\r\n",
        "!javac Demo.java\r\n",
        "!echo -e \"some\\nthing\\nis\\nhere\" > test\r\n",
        "!java Demo < test\r\n",
        "9:53\r\n",
        "String [] fruit = {\"apple\", \"orange\", \"peach\", \"pinapple\", \"dragon fruit\"};\r\n",
        "        int [] range = {4, 5, 100, 8, 62, 6, 7, 8, 9};\r\n",
        "        int [] rangeMuliplied = new int [9];\r\n",
        "        int [] copyOfRange = new int [20];\r\n",
        "      \r\n",
        "        String [] fruit2 = fruit;\r\n",
        "        System.out.println(\"the value at index zero for fruit is \" + fruit[0] + \" the value at index 0 for fruit 2 is \" + fruit2[0]);\r\n",
        "        for (int i = 0; i < 9; i++){\r\n",
        "            copyOfRange[i] = range[i];\r\n",
        "            System.out.println(\"copy of range is now equal to \" + copyOfRange[i]);\r\n",
        "        }\r\n",
        "        copyofRange[9] = 20;\r\n",
        "        fruit[0] = \"popcorn\";\r\n",
        "        System.out.println(\"the value at index zero for fruit is \" + fruit[0] + \" the value at index 0 for fruit 2 is \" + fruit2[0]);\r\n",
        "        fruit2[3] = \"race car\";\r\n",
        "        System.out.println(\"the value at index zero for fruit is \" + fruit[3] + \" the value at index 0 for fruit 2 is \" + fruit2[3]);\r\n",
        "        String cities = \"Seattle, Tacoma, Pitsburb, Dallas, New York\";\r\n",
        "        String [] citiesArr = cities.split(\",\");\r\n",
        "        // split on |,*:\r\n",
        "        for (String i : citiesArr) {\r\n",
        "            System.out.println(i);\r\n",
        "        }"
      ],
      "execution_count": null,
      "outputs": []
    },
    {
      "cell_type": "code",
      "metadata": {
        "id": "A6bLlH-B8HQr"
      },
      "source": [
        "!javac Demo.java\r\n",
        "!echo -e \"some\\nthing\\nis\\nhere\" > test\r\n",
        "!java Demo < test"
      ],
      "execution_count": null,
      "outputs": []
    },
    {
      "cell_type": "markdown",
      "metadata": {
        "id": "Qe1_-l_P-CbT"
      },
      "source": [
        "**Thursday Class**"
      ]
    },
    {
      "cell_type": "code",
      "metadata": {
        "id": "CMTGCsMD-y86"
      },
      "source": [
        "%%writefile WordFrequencies.java\r\n",
        "import java.util.Scanner;\r\n",
        "\r\n",
        "public class WordFrequencies {\r\n",
        "    public static void main (String[] args) {\r\n",
        "        Scanner in = new Scanner(System.in);\r\n",
        "        int wordCount = in.nextInt();\r\n",
        "        String [] words = new String [wordCount];\r\n",
        "        int [] count =new int [wordCount];\r\n",
        "\r\n",
        "        for (int i = 0; i < words.length; i++) {\r\n",
        "            String word = in.nextLine();\r\n",
        "            words[i] = word;\r\n",
        "        }\r\n",
        "\r\n",
        "        //iterate over the array and gcount the words that come up twice!\r\n",
        "        for (String a : words) {\r\n",
        "            for (int i =0; i< words.length; i++) {\r\n",
        "                \r\n",
        "                if (a.equals(words[i]) ) {\r\n",
        "                    int  inc = 0;\r\n",
        "                    count[i] += inc ++;\r\n",
        "                \r\n",
        "            }\r\n",
        "\r\n",
        "            for (int i = 0; i < word.length; i++) {\r\n",
        "                System.out.println(words[i] + \" - \" + count[i]);\r\n",
        "            }\r\n",
        "            \r\n",
        "                \r\n",
        "            }\r\n",
        "        }\r\n",
        "\r\n",
        "    }\r\n",
        "}"
      ],
      "execution_count": null,
      "outputs": []
    },
    {
      "cell_type": "code",
      "metadata": {
        "id": "-DIHNZzW-yO4"
      },
      "source": [
        "!javac WordFrequencies.java\r\n",
        "!echo -e \"13\\nI\\nam\\na\\nstring\\nand\\nI\\name\\na\\nrepeating\\nstring\\nwith\\nrepeating\\nletters\";\r\n",
        "!java WordFrequencies"
      ],
      "execution_count": null,
      "outputs": []
    },
    {
      "cell_type": "code",
      "metadata": {
        "id": "eX5PApXv7N-9"
      },
      "source": [
        "%%writefile Demo.java\r\n",
        "public class Demo {\r\n",
        "    public static void main (String[] args) {\r\n",
        "      String lower = \"abcdefgaabbcczrin\";\r\n",
        "      int[] counts = new int [26];\r\n",
        "\r\n",
        "      for (int i=0; i <lower.length(); i++){\r\n",
        "          char letter = lower.charAt(i);\r\n",
        "          System.out.println(\"line 9, looking at charAT which becomes letter \" + letter);\r\n",
        "          int index = letter - 'a';\r\n",
        "          System.out.println(\"line 11 looking at index, which is letter - 'a' and wondering about char math...\" + index);\r\n",
        "          counts[index]++;\r\n",
        "      }\r\n",
        "      for (int i : counts) {\r\n",
        "          System.out.println(i);\r\n",
        "      }\r\n",
        "    }\r\n",
        "}"
      ],
      "execution_count": null,
      "outputs": []
    },
    {
      "cell_type": "code",
      "metadata": {
        "id": "8Sdx0_WV8fke"
      },
      "source": [
        "!javac Demo.java\r\n",
        "!java Demo"
      ],
      "execution_count": null,
      "outputs": []
    },
    {
      "cell_type": "code",
      "metadata": {
        "id": "C1iwTduXEVFm"
      },
      "source": [
        "%%writefile MyNotes.java\n",
        "public class MyNotes {\n",
        "    public static void main (String[] args) {\n",
        "        System.out.println (\"My notes have working code in them!\");\n",
        "    }\n",
        "}"
      ],
      "execution_count": null,
      "outputs": []
    },
    {
      "cell_type": "code",
      "metadata": {
        "id": "jRzZxWlTEgN7"
      },
      "source": [
        "!javac MyNotes.java\n",
        "!java MyNotes"
      ],
      "execution_count": null,
      "outputs": []
    },
    {
      "cell_type": "markdown",
      "metadata": {
        "id": "CER-3tJ3Dotl"
      },
      "source": [
        "You only need to run the code below if you want to use Java 12. You won't need the special new properties of Java 12 for most of the class, but be aware that our GitHub Classroom tests run on Java 12."
      ]
    },
    {
      "cell_type": "code",
      "metadata": {
        "id": "jT9yfcqCDeC5"
      },
      "source": [
        "!sudo add-apt-repository ppa:openjdk-r/ppa -y\n",
        "!sudo apt-get update -y -q\n",
        "!sudo apt-get install openjdk-12-jre-headless -y -q\n",
        "!echo \"0\" | sudo update-alternatives --config java\n",
        "!java -version"
      ],
      "execution_count": null,
      "outputs": []
    }
  ]
}