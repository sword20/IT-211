{
  "nbformat": 4,
  "nbformat_minor": 0,
  "metadata": {
    "colab": {
      "name": "Read Chapter 5 Conditionals and Logic.ipynb",
      "private_outputs": true,
      "provenance": [],
      "collapsed_sections": [],
      "include_colab_link": true
    },
    "kernelspec": {
      "name": "python3",
      "display_name": "Python 3"
    }
  },
  "cells": [
    {
      "cell_type": "markdown",
      "metadata": {
        "id": "view-in-github",
        "colab_type": "text"
      },
      "source": [
        "<a href=\"https://colab.research.google.com/github/sword20/IT-211/blob/main/Read_Chapter_5_Conditionals_and_Logic.ipynb\" target=\"_parent\"><img src=\"https://colab.research.google.com/assets/colab-badge.svg\" alt=\"Open In Colab\"/></a>"
      ]
    },
    {
      "cell_type": "markdown",
      "metadata": {
        "id": "ixe7yw4GepMQ"
      },
      "source": [
        "Read Chapter 5 of *Think Java, 2nd Edition*, answer questions 1-20 and complete both of the labs in a copy of this notebook. These labs are modeled off of labs at the end of the chapter with some slight changes and additional setup and structure provided for you.\n",
        "\n",
        "Chapter 5: https://learning.oreilly.com/library/view/think-java-2nd/9781492072492/ch05.html\n",
        "\n",
        "\n",
        "\n",
        "Reminder: to edit a text block or a code block you can double click on it, or hover over it and press the pencil in the upper right hand corner.\n",
        "\n",
        "Note: to complete the two labs you will need to work with codeblocks in your copy of the notebook.\n",
        "\n",
        "Please save frequently! I don't want you to lose your work. Go to File > Save. The first time you do this it will tell you it is making a copy. Say yes that you want to save the changes to your copy.\n",
        "When you're done, save your notebook (File > Save) and then save a copy of your notebook to GitHub (File > Save to GitHub).  Don't save to GitHub until you're done.\n",
        "Send me the link to your file in GitHub to complete this assignment.\n",
        "\n",
        "*If you get stuck, ask on Slack!*"
      ]
    },
    {
      "cell_type": "markdown",
      "metadata": {
        "id": "XAmEZRZ4tsaC"
      },
      "source": [
        "#Questions\n",
        "\n",
        "1. List Java's six relational operators.\n",
        "\n",
        "A:<br>\n",
        "(==) equal\n",
        "\n",
        "(!=) not equal\n",
        "\n",
        "(>) greater than\n",
        "\n",
        "(<) less than\n",
        "\n",
        "(>=) greater than or equal\n",
        "\n",
        "(<=) less than or equal\n",
        "\n",
        "2. What will the result of a relational operator always be?\n",
        "\n",
        "A: True or False\n",
        "\n",
        "3. What is the difference between = and ==?  What is the purpose of each one?\n",
        "\n",
        "A: The = is the assignment operator, and == is a relational operator.\n",
        "\n",
        "4. Can you compare numbers of two different datatypes?\n",
        "\n",
        "A: Technically no, the two sides of a relational operator have to be compatible. You cant have one side an int and the other side a string. \n",
        "\n",
        "5. What does a conditional statement do?\n",
        "\n",
        "A: Conditional statements are what allows us to check the condition of the program and react accordingly. Such as the if statement.\n",
        "\n",
        "6. What is a boolean expression?\n",
        "\n",
        "A: It is a logical statement that is either true or false.\n",
        "\n",
        "7. In an if and else statement, what are the possibilities called?\n",
        "\n",
        "A: Branches\n",
        "\n",
        "8. What is chaining?  Why would you use it?\n",
        "\n",
        "A: A way of joining several conditional statements in sequence. These chains can be as long as you want.\n",
        "\n",
        "9. What is nesting?  When would you use it?\n",
        "\n",
        "A:Putting a conditional statement inside one or both branches of another conditional statement. Also allows you to make complex decisions.\n",
        "\n",
        "10. When would it be better use a switch statement instead of an if statement?\n",
        "\n",
        "A: When you need to make a series of decisions, chaining else if blocks can get long.\n",
        "\n",
        "11. When is the default block executed in a case statement?\n",
        "\n",
        "A: The default block is optional and executed only if none of the cases apply.\n",
        "\n",
        "12. When does the book considder switch statements to be particularly useful?\n",
        "\n",
        "A: They are particularly useful when multiple cases can be grouped:\n",
        "\n",
        "13. What are Java's three logical operators and what do they do?\n",
        "\n",
        "A: <br>\n",
        "(**&&**)  x > 0 && x < 10 is true when x is both greater than 0 and less than 10.\n",
        "\n",
        "(**||**) x < 0 || x > 10 is true if either condition is true; that is, if x is less than 0 or greater than 10. \n",
        "\n",
        "(**!**) is true if x is not greater than 0. The parentheses are necessary in this example because in the order of operations ! comes before >.\n",
        "\n",
        "14. What is a short circut evaluation?\n",
        "\n",
        "A: When you ignore the second operand. A way of evaluating logical operators that evaluates the second operand only if necessary.\n",
        "\n",
        "15. What are De Morgan’s laws?\n",
        "\n",
        "A: Mathematical rules that show how to negate a logical expression.\n",
        "\n",
        "16. What happens to relational operators when you apply De Morgan's laws to them?\n",
        "\n",
        "A: Negating each term means using the “opposite” relational operator: \n",
        "\n",
        "17. What is a \"Flag\"?\n",
        "\n",
        "A: A variable (usually boolean) that represents a condition or status.\n",
        "\n",
        "18. How can we check if a flag is false?\n",
        "\n",
        "A: Negate the flag\n",
        "\n",
        "19. What is \"validating input\" and why would you need to do it/\n",
        "\n",
        "A: One of the task of a program is to validate input from the user/customer, because people can make mistakes while typing and cause it to fail.\n",
        "\n",
        "20. What does the code block right before the vocabulary section do?  (overall)\n",
        "\n",
        "A: The code block is an a combination of the example codes that were previously mentioned. When I ran the code, it had me enter a number and gave me a log number. \n",
        "\n"
      ]
    },
    {
      "cell_type": "markdown",
      "metadata": {
        "id": "eqajPr84tvnn"
      },
      "source": [
        "#Excercises\n",
        "\n",
        "Please complete both of the following excercises!"
      ]
    },
    {
      "cell_type": "markdown",
      "metadata": {
        "id": "7Tv2R7m655S4"
      },
      "source": [
        "###Rewrite the following code by using a single if statement:"
      ]
    },
    {
      "cell_type": "code",
      "metadata": {
        "id": "f7lMv0lR52Y0"
      },
      "source": [
        "%%writefile ReWrite.java\n",
        "public class ReWrite {\n",
        "    public static void main(String [] args){\n",
        "        int x = 6;\n",
        "        if (x > 0 && x < 10) {\n",
        "                System.out.println(\"positive single digit number.\");\n",
        "            }\n",
        "        }\n",
        "    }"
      ],
      "execution_count": null,
      "outputs": []
    },
    {
      "cell_type": "code",
      "metadata": {
        "id": "_47OrX296ltH"
      },
      "source": [
        "!javac ReWrite.java\n",
        "!java ReWrite"
      ],
      "execution_count": null,
      "outputs": []
    },
    {
      "cell_type": "markdown",
      "metadata": {
        "id": "O8GPXVNt8orJ"
      },
      "source": [
        "### Triangle Problem (Slightly Modified From the Book's Version)\n",
        "\n",
        "If you are given three sticks, you may or may not be able to arrange them in a triangle. For example, if one of the sticks is 12 inches long and the other two are 1 inch long, you will not be able to get the short sticks to meet in the middle. For any three lengths, there is a simple test to see if it is possible to form a triangle:\n",
        "\n",
        "***If any of the three lengths is greater than the sum of the other two, you cannot form a triangle.***\n",
        "\n",
        "* Write a program named Triangle.java that inputs three integers, and then outputs whether you can (or cannot) form a triangle from the given lengths.\n",
        "\n",
        "* Validate the inputs, such that if a user enters a character instead of a number the program tells the user that the character is invalid.\n",
        "\n",
        "* Also, display an error if any of the lengths are negative or zero."
      ]
    },
    {
      "cell_type": "code",
      "metadata": {
        "id": "l32y3MB09fXY"
      },
      "source": [
        "%%writefile Triangle.java\n",
        "import java.util.Scanner;\n",
        "\n",
        "public class Triangle{\n",
        "    public static void main(String [] args) {\n",
        "        Scanner getInput = new Scanner(System.in);\n",
        "\n",
        "        double firstLength = getInput.nextDouble();\n",
        "        double secondLength = getInput.nextDouble(); \n",
        "        double thirdLength = getInput.nextDouble();\n",
        "\n",
        "    \n",
        "\n",
        "        if (firstLength > 0 && secondLength > 0 && thirdLength > 0){\n",
        "            System.out.println(\"First length is: \" + firstLength);\n",
        "            System.out.println(\"Second length is: \" + secondLength);\n",
        "            System.out.println(\"Third length is: \" + thirdLength);\n",
        "            \n",
        "        }else{\n",
        "            System.out.println(\"Input is invalid.\");\n",
        "            }\n",
        "\n",
        "\n",
        "        if (firstLength > (secondLength + thirdLength)) {\n",
        "\t\t      \tSystem.out.println(\"First length is too long.\");\n",
        "\t\t    } else if (secondLength > (firstLength + thirdLength)) {\n",
        "\t\t\t      System.out.println(\"Second length is too long.\");\n",
        "\t\t    } else if (thirdLength > (firstLength + secondLength)) {\n",
        "\t\t      \tSystem.out.println(\"Third length is too long.\");\n",
        "\t\t    } else {\n",
        "\t\t      \tSystem.out.println(\"These lengths will form a triangle.\");\n",
        "\t\t    }\n",
        "\n",
        "\n",
        "        // Write code to validate the input: if a user doesn't enter a number, tell the user their input is invalid.\n",
        "        // Write code to display an error if any lengths are negative or zero\n",
        "\n",
        "        \n",
        "        // Write code to validate the input: if a user doesn't enter a number, tell the user their input is invalid.\n",
        "        // Write code to display an error if any lengths are negative or zero\n",
        "\n",
        "       \n",
        "        // Write code to validate the input: if a user doesn't enter a number, tell the user their input is invalid.\n",
        "        // Write code to display an error if any lengths are negative or zero\n",
        "\n",
        "\n",
        "        // Write an if and else statement that compares the lengths and tells the user whether or not they can form a triangle\n",
        "        // Remember that if any of the lengths is greater than the sum of the other two, it cannot form a triangle.\n",
        "\n",
        "        // The print statement below is just here as something to ouptut.  You don't need it for your program\n",
        "        //System.out.println(firstLength + \" \" + secondLength + \" \" + thirdLength);\n",
        "\n",
        "\n",
        "    }\n",
        "}"
      ],
      "execution_count": null,
      "outputs": []
    },
    {
      "cell_type": "markdown",
      "metadata": {
        "id": "YyAcdylv_sxQ"
      },
      "source": [
        "Remember to run the code below to compile and run your Triangle.java class.  To make sure your validation works, you can alter the `echo` line which provides input to the program.  \n",
        "\n",
        "Try changing one of the numbers to a word, like: `!echo -e \"word\\n50\\n44\" > test` and one of the posative numbers to a negative number or zero, like: `!echo -e \"-1\\n50\\n44\" > test`, to make sure your error handling is working correctly."
      ]
    },
    {
      "cell_type": "code",
      "metadata": {
        "id": "xdHNDH34AZuo"
      },
      "source": [
        "!javac Triangle.java\n",
        "!echo -e \"30\\n25\\n10\" > test\n",
        "!java Triangle < test"
      ],
      "execution_count": null,
      "outputs": []
    },
    {
      "cell_type": "markdown",
      "metadata": {
        "id": "6hJv7hCSe0tX"
      },
      "source": [
        "#Reminder\n",
        "\n",
        "* When you're done, save your notebook (File > Save) and then save a copy of your notebook to your IT-211 GitHub (File > Save to GitHub).\n",
        "* Send me the link to your file in GitHub to complete this assignment.\n",
        "* If you get stuck, ask on Slack!"
      ]
    }
  ]
}