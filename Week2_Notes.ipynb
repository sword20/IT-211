{
  "nbformat": 4,
  "nbformat_minor": 0,
  "metadata": {
    "colab": {
      "name": "Week2 Notes.ipynb",
      "private_outputs": true,
      "provenance": [],
      "collapsed_sections": [],
      "include_colab_link": true
    },
    "kernelspec": {
      "name": "python3",
      "display_name": "Python 3"
    }
  },
  "cells": [
    {
      "cell_type": "markdown",
      "metadata": {
        "id": "view-in-github",
        "colab_type": "text"
      },
      "source": [
        "<a href=\"https://colab.research.google.com/github/sword20/IT-211/blob/main/Week2_Notes.ipynb\" target=\"_parent\"><img src=\"https://colab.research.google.com/assets/colab-badge.svg\" alt=\"Open In Colab\"/></a>"
      ]
    },
    {
      "cell_type": "markdown",
      "metadata": {
        "id": "7yiqcKoEDvYr"
      },
      "source": [
        "This is a place for your notes and code examples.  Here's a demo, which you should feel free to delete:\n",
        "<br>\n",
        "<br>\n",
        "<br>"
      ]
    },
    {
      "cell_type": "markdown",
      "metadata": {
        "id": "VvMZoAr_jG0G"
      },
      "source": [
        "https://google.github.io/styleguide/javaguide.html#s4.6-whitespace\r\n",
        "\r\n",
        "https://www.oracle.com/java/technologies/javase/codeconventions-indentation.html\r\n",
        "\r\n",
        "Code Reference: https://www.w3schools.com/java/java_user_input.asp\r\n",
        "\r\n"
      ]
    },
    {
      "cell_type": "code",
      "metadata": {
        "id": "6pRhkPD1jU9N"
      },
      "source": [
        "%%writefile Input.java\r\n",
        "import java.util.Scanner;\r\n",
        "public class Input {                          \r\n",
        "  public static void main(String [] args) {  \r\n",
        "    Scanner scnr = new Scanner(System.in);       // Create a Scanner object\r\n",
        "    System.out.println(\"What's your name?\");\r\n",
        "    //String name = scnr.next();                   // Capture command-line input and put it into the name variable\r\n",
        "    String fullName = scnr.nextLine();               //nexLine prints everything until the next line of code.\r\n",
        "                             \r\n",
        "   \r\n",
        "    System.out.println(\"My name is \" + fullName);    // Print \"My name is\" followed by the name the user entered.\r\n",
        "  }\r\n",
        "}"
      ],
      "execution_count": null,
      "outputs": []
    },
    {
      "cell_type": "code",
      "metadata": {
        "id": "9Zex4jZQkBNV"
      },
      "source": [
        "!javac Input.java\r\n",
        "!echo \"Emmanuel Sword\" > test\r\n",
        "!java Input < test"
      ],
      "execution_count": null,
      "outputs": []
    },
    {
      "cell_type": "code",
      "metadata": {
        "id": "qt0LyFsapLep"
      },
      "source": [
        "%%writefile Input.java\r\n",
        "import java.util.Scanner;\r\n",
        "\r\n",
        "//Goal: Calculator\r\n",
        "\r\n",
        "public class Input {                          \r\n",
        "  public static void main(String [] args) {  \r\n",
        "    Scanner calc = new Scanner(System.in);                      //Create a Scanner object\r\n",
        "    \r\n",
        "    System.out.println(\"What is your first number?\");\r\n",
        "      int firstNumber = calc.nextInt();                         //Get int from user and put in firstNumber\r\n",
        "\r\n",
        "    System.out.println(\"What is your second number?\");\r\n",
        "      int secondNumber = calc.nextInt();                        //Get int from user and put in secondNumber\r\n",
        "\r\n",
        "    System.out.println(\"Now we will add your numbers!\");\r\n",
        "      int myAnswer = firstNumber + secondNumber;                //Add both numbers together and put in myAnswer\r\n",
        "                             \r\n",
        "   \r\n",
        "    System.out.println(\"My number is \" + firstNumber + \".\\nMy second number is \" + secondNumber + \". \\nAdded together they equal \" + myAnswer + \".\");   \r\n",
        "  }\r\n",
        "}"
      ],
      "execution_count": null,
      "outputs": []
    },
    {
      "cell_type": "code",
      "metadata": {
        "id": "V-mrytzPqUM6"
      },
      "source": [
        "!javac Input.java\r\n",
        "!echo -e \"22\\n30\" > test\r\n",
        "!cat test\r\n",
        "!java Input < test"
      ],
      "execution_count": null,
      "outputs": []
    },
    {
      "cell_type": "markdown",
      "metadata": {
        "id": "xZwCKYMDoVBV"
      },
      "source": [
        "**Wednesday class.**"
      ]
    },
    {
      "cell_type": "code",
      "metadata": {
        "id": "aqPLhJ9Brjcq"
      },
      "source": [
        "%%writefile Input.java\r\n",
        "import java.util.Scanner;\r\n",
        "\r\n",
        "// Goal: Build a Calculator\r\n",
        "//Expectation: punch in numbers instead of being prompted (maybe promoted once, but not twice)\r\n",
        "//Expectation: only reults of operator punched in\r\n",
        "// ? Scientific notation translator: 9.313225746154785E20 931322574615478500000 (example)\r\n",
        "//Figure out how to enter something like: 2 + 4 and get just 6 as the output.\r\n",
        "//If/then & Switch\r\n",
        "\r\n",
        "public class Input {                          \r\n",
        "    public static void main(String [] args) {  \r\n",
        "        Scanner randomScanner = new Scanner(System.in);       // Create a Scanner object\r\n",
        "\r\n",
        "        System.out.println(\"Enter your first number:\");       // Scans for first number and stores it as firstNumber.\r\n",
        "        double firstNumber = randomScanner.nextDouble();\r\n",
        "\r\n",
        "        System.out.println(\"Enter your second number:\");      // Scans for second number and stores it as secondNumber.\r\n",
        "        double secondNumber = randomScanner.nextDouble();\r\n",
        "\r\n",
        "\r\n",
        "        double myAnswer = firstNumber + secondNumber;             // Adds those numbers together and stores the answer as myAnswer.\r\n",
        "        double myAnswer2 = firstNumber - secondNumber;            //Subtracts second number from first\r\n",
        "        double myAnswer3 = firstNumber * secondNumber;            //Multiplies first number by second\r\n",
        "        double myAnswer4 = firstNumber / secondNumber;            //Divides first number by second number\r\n",
        "        double myAnswer5 = Math.pow(firstNumber, secondNumber);   //Raise the first number to the power of the second number\r\n",
        "\r\n",
        "       \r\n",
        "        System.out.println(\"My first number is \" + firstNumber + \".\\nMy second number is \" + secondNumber + \".\\nAddition: \" + myAnswer + \".\\nSubtraction: \" + myAnswer2 + \".\\nMultiplication: \" + myAnswer3 + \".\\nDivision: \" + myAnswer4 + \". \\nExponent: \" + myAnswer5 + \".\");\r\n",
        "\r\n",
        "  }\r\n",
        "}"
      ],
      "execution_count": null,
      "outputs": []
    },
    {
      "cell_type": "code",
      "metadata": {
        "id": "72GLXVesqxJ3"
      },
      "source": [
        "!javac Input.java\r\n",
        "!echo -e \"5.0\\n30\" > test\r\n",
        "!cat test\r\n",
        "!java Input < test"
      ],
      "execution_count": null,
      "outputs": []
    },
    {
      "cell_type": "markdown",
      "metadata": {
        "id": "7wXlWVtu1L6n"
      },
      "source": [
        "**Thursday Class - Primative Data Types**"
      ]
    },
    {
      "cell_type": "code",
      "metadata": {
        "id": "mLyFjJYw1QD1"
      },
      "source": [
        "%%writefile Declaration.java\r\n",
        "public class Declaration {\r\n",
        "    public static void main (String [] args) {\r\n",
        "        // Whole numbers.  The only difference between them is how many numbers they can store\r\n",
        "        int   intVar   = 1000000000;            // Stores whole numbers from -2,147,483,648 to 2,147,483,647 (Takes up 4 bytes)\r\n",
        "        byte  byteVar  = 100;                   // Stores whole numbers from -128 to 127 (Takes up 1 byte)\r\n",
        "        short shortVar = 1000;                  // Stores whole numbers from -32,768 to 32,767 (Takes up 2 bytes)\r\n",
        "        long  longVar  =  1000000000000000000L; // Stores whole numbers from -9,223,372,036,854,775,808 to 9,223,372,036,854,775,807 (Takes up 8 bytes)\r\n",
        "        // Note: if you want to get decimals back when you divide two numbers, you must start with a decimal data type.\r\n",
        "        // Int's divided by ints will produce int's that round down.\r\n",
        "        // Stores decimals  \r\n",
        "        float floatVar   = 3.141592f;            //Stores fractional numbers. Sufficient for storing 6 to 7 decimal digits (Takes up 4 bytes)\r\n",
        "        double doubleVar = 3.141592653589793d;   // Stores fractional numbers. Sufficient for storing 15 decimal digits (Takes up 8 bytes)\r\n",
        "        // Single value\r\n",
        "        boolean booleanVar = true;              // Boolean is used for true or false.  (Takes up 1 byte)\r\n",
        "        char charVar       = 'J';               // Stores a single character/letter or ASCII values (Takes up 2 bytes)  Note the single quotes!\r\n",
        "        System.out.println(\"There are 8 primitive data types\\nint, byte, short, long, fload, double, boolean, & char\");\r\n",
        "        System.out.println(\"intVar = \" + intVar );\r\n",
        "        System.out.println(\"byteVar = \" + byteVar);\r\n",
        "        System.out.println(\"shortVar = \" + shortVar);\r\n",
        "        System.out.println(\"longVar = \" + longVar);\r\n",
        "        System.out.println(\"float = \" + floatVar);\r\n",
        "        System.out.println(\"double = \" + doubleVar);\r\n",
        "        System.out.println(\"boolean = \" + booleanVar);\r\n",
        "        System.out.println(\"char = \" + charVar);\r\n",
        "    }\r\n",
        "}"
      ],
      "execution_count": null,
      "outputs": []
    },
    {
      "cell_type": "code",
      "metadata": {
        "id": "D0zmQY6v6NeB"
      },
      "source": [
        "!javac Declaration.java\r\n",
        "!java Declaration"
      ],
      "execution_count": null,
      "outputs": []
    },
    {
      "cell_type": "markdown",
      "metadata": {
        "id": "QFtyw26e61vw"
      },
      "source": [
        "**Non-Primative Data Types**"
      ]
    },
    {
      "cell_type": "markdown",
      "metadata": {
        "id": "aLczWfmi69ia"
      },
      "source": [
        "Non-Primitive Data Types\r\n",
        "Anything that refers to an object is a non-primitive data type. String is the most famous non-primitive datatype, but later in the quarter we will be looking at other very useful non-primitive data types such as arrays, classes, interfaces, and so on.\r\n",
        "Here are some attributes of Non-primitive data types:\r\n",
        "Primitive types are predefined (already defined) in Java. Non-primitive types are created by the programmer and is not defined by Java (except for String).\r\n",
        "Non-primitive types can be used to call methods to perform certain operations, while primitive types cannot.\r\n",
        "A primitive type has always a value, while non-primitive types can be null.\r\n",
        "A primitive type starts with a lowercase letter, while non-primitive types starts with an uppercase letter.\r\n",
        "The size of a primitive type depends on the data type, while non-primitive types have all the same size.\r\n",
        "Good reference: https://www.w3schools.com/java/java_data_types.asp"
      ]
    },
    {
      "cell_type": "code",
      "metadata": {
        "id": "vQToOiHb7EVB"
      },
      "source": [
        "%%writefile StringClass.java\r\n",
        "public class StringClass {\r\n",
        "    public static void main (String [] args) {\r\n",
        "        String myQuote = \"A quote from a book I like is \\\"It used to be thought that the events that changed the world were things like big bombs,\\nmaniac politicians, huge earthquakes, or vast population movements, but it has now been realized that this is a very old-fashioned\\nview held by people totally out of touch with modern thought. The things that really change the world, according to Chaos theory,\\nare the tiny things. A butterfly flaps its wings in the Amazonian jungle, and subsequently a storm ravages half of Europe.\\\"\";\r\n",
        "        System.out.println(myQuote);\r\n",
        "        // How do strings work in memory? https://en.wikipedia.org/wiki/String_interning\r\n",
        "    \r\n",
        "    }\r\n",
        "}"
      ],
      "execution_count": null,
      "outputs": []
    },
    {
      "cell_type": "code",
      "metadata": {
        "id": "9NxBcfTS7Ijl"
      },
      "source": [
        "!javac StringClass.java\r\n",
        "!java StringClass"
      ],
      "execution_count": null,
      "outputs": []
    },
    {
      "cell_type": "code",
      "metadata": {
        "id": "C1iwTduXEVFm"
      },
      "source": [
        "%%writefile MyNotes.java\n",
        "public class MyNotes {\n",
        "    public static void main (String[] args) {\n",
        "        System.out.println (\"My notes have working code in them!\");\n",
        "    }\n",
        "}"
      ],
      "execution_count": null,
      "outputs": []
    },
    {
      "cell_type": "code",
      "metadata": {
        "id": "jRzZxWlTEgN7"
      },
      "source": [
        "!javac MyNotes.java\n",
        "!java MyNotes"
      ],
      "execution_count": null,
      "outputs": []
    },
    {
      "cell_type": "markdown",
      "metadata": {
        "id": "CER-3tJ3Dotl"
      },
      "source": [
        "You only need to run the code below if you want to use Java 12. You won't need the special new properties of Java 12 for most of the class, but be aware that our GitHub Classroom tests run on Java 12."
      ]
    },
    {
      "cell_type": "code",
      "metadata": {
        "id": "jT9yfcqCDeC5"
      },
      "source": [
        "!sudo add-apt-repository ppa:openjdk-r/ppa -y\n",
        "!sudo apt-get update -y -q\n",
        "!sudo apt-get install openjdk-12-jre-headless -y -q\n",
        "!echo \"0\" | sudo update-alternatives --config java\n",
        "!java -version"
      ],
      "execution_count": null,
      "outputs": []
    }
  ]
}