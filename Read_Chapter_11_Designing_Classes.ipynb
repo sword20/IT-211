{
  "nbformat": 4,
  "nbformat_minor": 0,
  "metadata": {
    "colab": {
      "name": "Read Chapter 11  - Designing Classes",
      "private_outputs": true,
      "provenance": [],
      "collapsed_sections": [],
      "include_colab_link": true
    },
    "kernelspec": {
      "name": "python3",
      "display_name": "Python 3"
    }
  },
  "cells": [
    {
      "cell_type": "markdown",
      "metadata": {
        "id": "view-in-github",
        "colab_type": "text"
      },
      "source": [
        "<a href=\"https://colab.research.google.com/github/sword20/IT-211/blob/main/Read_Chapter_11_Designing_Classes.ipynb\" target=\"_parent\"><img src=\"https://colab.research.google.com/assets/colab-badge.svg\" alt=\"Open In Colab\"/></a>"
      ]
    },
    {
      "cell_type": "markdown",
      "metadata": {
        "id": "8DzSGaD2XJK8"
      },
      "source": [
        "Read Chapter 11 of Think Java, 2nd Edition, answer questions 1 - 16, and complete the ``exercise in a copy of this notebook.\n",
        "\n",
        "Chapter 11: https://learning.oreilly.com/library/view/think-java-2nd/9781492072492/ch11.html\n",
        "\n",
        "Reminder: to edit a text block or a code block you can double click on it, or hover over it and press the pencil in the upper right hand corner.\n",
        "\n",
        "Please save frequently! I don't want you to lose your work. When you first open this notebook, go to File > Save. The first time you do this it will tell you it is making a copy. Say yes that you want to save the changes to your copy. When you're done, save your notebook (File > Save) and then save a copy of your notebook to GitHub (File > Save to GitHub). Don't save to GitHub until you're done. Send me the link to your file in GitHub to complete this assignment.\n",
        "\n",
        "If you get stuck, ask on Slack!"
      ]
    },
    {
      "cell_type": "markdown",
      "metadata": {
        "id": "RXuniPWcfVt4"
      },
      "source": [
        "#Questions"
      ]
    },
    {
      "cell_type": "markdown",
      "metadata": {
        "id": "zuk5KA9QfaoM"
      },
      "source": [
        "# Chapter 11\n",
        "\n",
        "1. Is every object an instance of a class?\n",
        "\n",
        "A(1). Every object belongs to an object type, which means it is an instance of a class.\n",
        "\n",
        "2. What does instantiating an object mean?\n",
        "\n",
        "A(2).  it creates a new instance of a class.\n",
        "\n",
        "3. What is another name for attributes?\n",
        "\n",
        "A(3). Instance Variables\n",
        "\n",
        "4. What does it mean if an instance variable is private?\n",
        "\n",
        "A(4). It can only be accessed from inside the class.\n",
        "\n",
        "5. What is a constructor?\n",
        "\n",
        "A(5). a special method that initializes the object.\n",
        "\n",
        "6. What does the keyword `this` do?\n",
        "\n",
        "A(6). A keyword that refers to the object we are creating. You can use this the same way you use the name of any other object.\n",
        "\n",
        "7.  What is a default constructor?  What is a value constructor?\n",
        "\n",
        "A(7).\n",
        "\n",
        " Default constructor takes no arguments, provides a default value like a 0.\n",
        "\n",
        " Value constructor must have to provide arguments to the new operator to invoke this constructor.\n",
        "\n",
        "8. What must you do to invoke a constructor?\n",
        "\n",
        "A(8).  Must have to provide arguments to the new operator \n",
        "\n",
        "9. What is shadowing?  Why is the keyword `this` useful when shadowing?\n",
        "\n",
        "A(9). Occurs when a local variable or parameter has the same name as an attribute. This constructor copies the values from the parameters to the instance variables.\n",
        "\n",
        "10.  In the space below, add 2 attributes/instance variables and one constructor to the class NewClass.  Make sure it compiles before you move on."
      ]
    },
    {
      "cell_type": "code",
      "metadata": {
        "id": "SYOLoSQZja_L"
      },
      "source": [
        "%%writefile NewClass.java\n",
        "public class NewClass {\n",
        "    private int nc;\n",
        "    \n",
        "    }\n",
        "\n",
        "    public NewClass() {\n",
        "        this.nc = 0;\n",
        "    }\n",
        "    \n",
        "\n",
        "  public static void main(String [] args) {\n",
        "      NewClass test = new NewClass();\n",
        "        \n",
        "  }\n",
        "}"
      ],
      "execution_count": null,
      "outputs": []
    },
    {
      "cell_type": "code",
      "metadata": {
        "id": "AIUgY-edjb0M"
      },
      "source": [
        "!javac NewClass.java \n",
        "!java NewClass"
      ],
      "execution_count": null,
      "outputs": []
    },
    {
      "cell_type": "markdown",
      "metadata": {
        "id": "_s126ognkxl7"
      },
      "source": [
        "11. Why is it good to avoid making instance variables (also called attributes) public?\n",
        "\n",
        "A(11). So that when one change is made, it does not affect the other class.\n",
        "\n",
        "\n",
        "12. What is a *getter*?  What is the naming convention exists for them?\n",
        "\n",
        "A(12). A method that returns the value of an instance variable.\n",
        "\n",
        "* getSomething\n",
        "\n",
        "13. What is a *setter/ mutator*?  What naming convention exists for them?\n",
        "\n",
        "A(13).A method that assigns a value to an instance variable.\n",
        "\n",
        "* setSomething\n",
        "\n",
        "14. What does the method .toString do in every object?\n",
        "\n",
        "A(14). Returns the string representation of the object\n",
        "\n",
        "15.  What is an instance method?  Are they static or nonstatic?\n",
        "\n",
        "A(15).  A nonstatic method that has access to this and the instance variables. Nonstatic.\n",
        "\n",
        "16.  Why would you want to write your own equals method for a class?\n",
        "\n",
        "A(16). The equals method checks whether two objects are equivalent; that is, whether they have the same values.\n",
        "\n",
        "17.  What problem does the final version of the instance method *add* run into?\n",
        "\n",
        "A(17). If hour exceeds 23, we subtract 24 hours, but there’s no days attribute to carry into.\n"
      ]
    },
    {
      "cell_type": "markdown",
      "metadata": {
        "id": "mFYEcz5IrQZA"
      },
      "source": [
        "# Exercise 11 - 2 (From the Book)\n",
        "\n",
        "*This exercise is long, which might make it look scary, but every part of it is demoed in the book using a different example, so don't be intimidated.  If you just take the code one step at a time, you will be fine!*\n",
        "\n",
        "*If you get stuck on any part for more than 10 minutes, reach out to me or a classmate.  These coding concepts are new, but they can be used simply.*\n",
        "\n",
        "In the board game Scrabble, each tile contains a letter, which is used to spell words in rows and columns, and a score, which is used to determine the value of words. The point of this exercise is to practice the mechanical part of creating a new class definition.\n",
        "\n",
        "1. Write a definition for a class named Tile that represents Scrabble tiles. The instance variables should include a character named letter and an integer named value.\n",
        "\n",
        "2. Write a constructor that takes parameters named letter and value, and initializes the instance variables.\n",
        "\n",
        "3. Write a method named printTile that takes a Tile object as a parameter and displays the instance variables in a reader-friendly format.\n",
        "\n",
        "4. Write a main method that creates a Tile object with the letter Z and the value 10, and then uses printTile to display the state of the object.\n",
        "\n",
        "5. Implement the toString and equals methods for a Tile.\n",
        "\n",
        "6. Create getters and setters for each of the attributes."
      ]
    },
    {
      "cell_type": "code",
      "metadata": {
        "id": "8hcZhcBWrP8X"
      },
      "source": [
        "%%writefile Tile.java\n",
        "public class Tile {\n",
        "// Class definition for tile        (task 1)\n",
        "\n",
        "    // instance variable 1          (task 1) Note: these should probobly be private, since there are getters and setters.\n",
        "    // instance variable 2          (task 1) Note: these should probobly be private, since there are getters and setters.\n",
        "    private char letter;\n",
        "    private int value;\n",
        "\n",
        "    // constructor                  (task 2)\n",
        "    public Tile(char letter, int value){\n",
        "        this.letter = letter;\n",
        "        this.value = value;\n",
        "    }\n",
        "\n",
        "    // printTile method             (task 3)\n",
        "    public void printTile() {\n",
        "        System.out.println(\"This tile's letter is : \" + this.letter + \"\\nThis tile's value is: \" + this.value + \".\");\n",
        "    }\n",
        "\n",
        "    // main method                  (task 4)\n",
        "    public static void main(String [] args) {\n",
        "        Tile myTile = new Tile ('z', 10);\n",
        "        Tile mySecondTile = new Tile('z', 10);\n",
        "        myTile.printTile();    \n",
        "        System.out.println(myTile.toString()); \n",
        "        System.out.println(myTile.equals(mySecondTile));\n",
        "        System.out.println(mySecondTile.getValue());\n",
        "        System.out.println(myTile.getLetter());\n",
        "        myTile.setLetter('H');\n",
        "        myTile.setValue(5);\n",
        "        System.out.println(myTile.toString());\n",
        "    }\n",
        "\n",
        "    // toString method              (task 5)\n",
        "    public String toString(){\n",
        "        return \"letter: \" + this.letter + \" value: \" + this.value + \".\";\n",
        "    }\n",
        "    // equals method                (task 5)\n",
        "    public boolean equals(Tile tile) {\n",
        "        if(tile.letter == this.letter && tile.value == this.value){\n",
        "            return true;\n",
        "        } else{\n",
        "            return false;\n",
        "        }\n",
        "    }\n",
        "\n",
        "    // getter method for instance variable 1        (task 6)\n",
        "    public char getLetter() {\n",
        "        return this.letter;\n",
        "    }\n",
        "\n",
        "    // getter method for instance variable 2        (task 6)\n",
        "    public int getValue() {\n",
        "        return this.value;\n",
        "    }\n",
        "\n",
        "    // setter method for instance variable 1        (task 6)\n",
        "    public void setLetter(char letter) {\n",
        "        this.letter = letter;\n",
        "    }\n",
        "    // setter method for instance variable 2        (task 6) \n",
        "    public void setValue(int value) {\n",
        "        this.value = value;\n",
        "    }\n",
        "}"
      ],
      "execution_count": null,
      "outputs": []
    },
    {
      "cell_type": "code",
      "metadata": {
        "id": "pUHTttMmrPrT"
      },
      "source": [
        "!javac Tile.java\n",
        "!java Tile"
      ],
      "execution_count": null,
      "outputs": []
    }
  ]
}