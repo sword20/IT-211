{
  "nbformat": 4,
  "nbformat_minor": 0,
  "metadata": {
    "colab": {
      "name": "Read Chapter 1.  Computer Programming.ipynb",
      "private_outputs": true,
      "provenance": [],
      "collapsed_sections": [],
      "include_colab_link": true
    },
    "kernelspec": {
      "name": "python3",
      "display_name": "Python 3"
    }
  },
  "cells": [
    {
      "cell_type": "markdown",
      "metadata": {
        "id": "view-in-github",
        "colab_type": "text"
      },
      "source": [
        "<a href=\"https://colab.research.google.com/github/sword20/IT-211/blob/main/Read_Chapter_1_Computer_Programming.ipynb\" target=\"_parent\"><img src=\"https://colab.research.google.com/assets/colab-badge.svg\" alt=\"Open In Colab\"/></a>"
      ]
    },
    {
      "cell_type": "markdown",
      "metadata": {
        "id": "eUIEZxGGVHFF"
      },
      "source": [
        "Read Chapter 1 of *Think Java*, 2nd Editon and answer questions 1-21 in a copy of this noebook.\n",
        "\n",
        "Chapter 1: https://learning.oreilly.com/library/view/think-java-2nd/9781492072492/ch01.html\n",
        "\n",
        "<br>\n",
        "\n",
        "*Don't worry if the concepts in this chapter don't make sense yet, they will become familiar by the end of class, I promise!*\n",
        "\n",
        "   * *Reminder: to edit a text block or a code block you can double click on it, or hover over it and press the pencil in the upper right hand corner.*\n",
        "\n",
        "<br>\n",
        "\n",
        "Note: to complete question 21 which is a programming/debugging lab you will create code in your copy of this notebook.  \n",
        "\n",
        "   * Please save frequently!  I don't want you to lose your work.  Go to File > Save.  The first time you do this it will tell you it is making a copy.  Say yes that you want to save the changes to your copy.\n",
        "   * When you're done, save your notebook (File > Save) and then save a copy of your notebook to GitHub (File > Save to GitHub).  \n",
        "   * Send me the link to your file in GitHub to complete this assignment.\n",
        "   * If you get stuck, ask on Slack!"
      ]
    },
    {
      "cell_type": "markdown",
      "metadata": {
        "id": "rMDSBD4jUuBD"
      },
      "source": [
        "#Questions\n",
        "\n",
        "1. What are the two most important pieces of hardware in every computer?\n",
        "\n",
        "A: The 2 most important pieces are the Processor and Memory\n",
        "2. What are the five basic instruction that appear in almost every programming language?\n",
        "\n",
        "A: Input, Output, Math, Secision and Repetition\n",
        "3. What do they mean (okay to copy from the book here)\n",
        "\n",
        "A: Input- Get data from the keyboard, a file, a sensor, or some other device.\n",
        "   \nOutput- Display data on the screen, or send data to a file or other device.\n",
        "   \nMath- Perform basic mathematical operations like addition and division.\n",
        "   \nSecision- Check for certain conditions and execute the appropriate code.\n",
        "   \nRepetition- Perform an action repeatedly, usually with some variation.\n",
        "\n",
        "4. What is the statement in the Hello World example?\n",
        "\n",
        "A: println\n",
        "5. What is the method in the Hello World example?\n",
        "\n",
        "A: main\n",
        "6. Why is the method ‘main’ special?\n",
        "\n",
        "A: Because when the program runs it starts with the first statement and ends with the last statement.\n",
        "7. What is a class (how does the book define it for now?)\n",
        "\n",
        "A: It is a collection of methods.\n",
        "8. If my Java class is named Nicole, what must the name of my Java file be?\n",
        "\n",
        "A: Nicole.java\n",
        "9. What is an interpreter?\n",
        "\n",
        "A: An interpreter read a program and executes it, simultaneously processing the lines and performing computations.\n",
        "10. What is a compiler?\n",
        "\n",
        "A: A compiler reads the entire program before the program is run.\n",
        "11. What is byte code?\n",
        "\n",
        "A: It is the coding language of a virtual machine.\n",
        "12. What is the Java compiler called?\n",
        "\n",
        "A: Javac\n",
        "13. What is the Java Interpreter called?\n",
        "\n",
        "A: java which is short for Java Virtual Machine.\n",
        "14. How do you comment in Java?\n",
        "\n",
        "A: you add 2 forward slashes (/)\n",
        "15. What is the difference in output between System.out.println() and System.out.print()? (in other words, if you used both to print the same thing, what would the difference be?)\n",
        "\n",
        "A: System.out.println() will print out the string placed in the parentheses and quotation marks with a new line at the end of it. where System.out.print() will print the string with no new line after it, so the next string will print next to your string.\n",
        "16. Why is whitespace important?\n",
        "\n",
        "A: It makes the code a lot easier to read. The code will still run without all the spaces and indents but it will be very hard to find error in code without it. It also looks more appealing visually.\n",
        "17. List two escape sequences and explain in a sentence (per escape sequence) what each one does.\n",
        "\n",
        "A: \\n: This escape sequence is an inline code used to move the following string to a new line.\n",
        "   \n\\t: Used to create an indent before a string.\n",
        "18. What is an algorithm?\n",
        "\n",
        "A: A sequence of steps that specifies how to solve a problem.\n",
        "19. What is a bug?\n",
        "\n",
        "A: Bugs are programming errors.\n",
        "20. Note, in the vocabulary section of this chapter “processo” should be “processor”"
      ]
    },
    {
      "cell_type": "markdown",
      "metadata": {
        "id": "RWiO6V17U0J-"
      },
      "source": [
        "#Programming Lab: Debugging\n",
        "\n",
        "21. Pick 4 of the program errors at the end of the chapter to test in your Jupyter Notebook.  An example of replacing  **println** with **Println** is below. \n"
      ]
    },
    {
      "cell_type": "code",
      "metadata": {
        "id": "vgDaYnaDXjbo"
      },
      "source": [
        "%%writefile Hello.java\n",
        "// This code tests what happens when I replace println with Println on line 9\n",
        "// Not sure which line 8 is?  Highlight this codeblock and press <control> m then l.  You should see line numbers down the side of the cell.\n",
        "\n",
        "public class Hello {\n",
        "\n",
        "     public static void main(String[] args) {\n",
        "        // generate some simple output\n",
        "        System.out.println(\"Hello, World!\";\n",
        "    }\n",
        "}"
      ],
      "execution_count": null,
      "outputs": []
    },
    {
      "cell_type": "code",
      "metadata": {
        "id": "77k-oNolaLIe"
      },
      "source": [
        "!javac Hello.java\n",
        "!java Hello"
      ],
      "execution_count": null,
      "outputs": []
    },
    {
      "cell_type": "markdown",
      "metadata": {
        "id": "_3UzfodfejAG"
      },
      "source": [
        "#Summery 0\n",
        "\n",
        "Replacing **println** with **Println**.\n",
        "\n",
        "I recived the following error:\n",
        "```\n",
        "Hello.java:8: error: cannot find symbol\n",
        "        System.out.Println(\"Hello, World!\");\n",
        "                   ^\n",
        "```\n",
        "Cannot find symbol is not very descriptive (at least to me) but it did have a little carrot (^) under the capitol P in Println, which would have helped me find the problem."
      ]
    },
    {
      "cell_type": "markdown",
      "metadata": {
        "id": "OvPO6Jlzhv0f"
      },
      "source": [
        "#Summery 1\r\n",
        "\r\n",
        "I took out the first closing curly brace on line 10 and I recieved this message.\r\n",
        "\r\n",
        "```\r\n",
        "Hello.java:10: error: reached end of file while parsing\r\n",
        "}\r\n",
        " ^\r\n",
        "1 error\r\n",
        "Hello, World!\r\n",
        "```\r\n",
        "It still printed Hello, World but also let me know that there was an error finding the end of the file.\r\n"
      ]
    },
    {
      "cell_type": "markdown",
      "metadata": {
        "id": "exgRzG8nhzR-"
      },
      "source": [
        "#Summery 2\r\n",
        "\r\n",
        "This is the message i received after I changed main to mian.\r\n",
        "\r\n",
        "```\r\n",
        "Error: Main method not found in class Hello, please define the main method as:\r\n",
        "   public static void main(String[] args)\r\n",
        "or a JavaFX application class must extend javafx.application.Application\r\n",
        "```\r\n",
        "It notified me that main method was not found which would lead me to look back at my code starting with the main method.\r\n"
      ]
    },
    {
      "cell_type": "markdown",
      "metadata": {
        "id": "SWcbLE53h2_d"
      },
      "source": [
        "#Summery 3\r\n",
        "\r\n",
        "Removed static and I received this message:\r\n",
        "\r\n",
        "```\r\n",
        "Error: Main method is not static in class Hello, please define the main method as:\r\n",
        "   public static void main(String[] args)\r\n",
        "```\r\n",
        "It specified where the issue in the code was which was missing static. I then took out public and static and received this:\r\n",
        "\r\n",
        "\r\n",
        "```\r\n",
        "Error: Main method not found in class Hello, please define the main method as:\r\n",
        "   public static void main(String[] args)\r\n",
        "or a JavaFX application class must extend javafx.application.Applicatio\r\n",
        "```\r\n",
        "Which is the same error message i received from changing main to mian.\r\n",
        "\r\n"
      ]
    },
    {
      "cell_type": "markdown",
      "metadata": {
        "id": "G7X-oMRoh52H"
      },
      "source": [
        "#Summery 4\r\n",
        "I deleted the parentheses on line 9 after \"Hello World!\" which populated this error message:\r\n",
        "\r\n",
        "```\r\n",
        "Hello.java:8: error: ')' expected\r\n",
        "        System.out.println(\"Hello, World!\";\r\n",
        "                                          ^\r\n",
        "1 error\r\n",
        "Hello, World!\r\n",
        "```\r\n",
        "It still printed \"Hello World!\" at the bottom but it also noted the missing parentheses added a ^ to show where to insert it.\r\n"
      ]
    },
    {
      "cell_type": "markdown",
      "metadata": {
        "id": "MTwlFTqsfvJ8"
      },
      "source": [
        "#Reminder\n",
        "\n",
        "   * When you're done, save your notebook (File > Save) and then save a copy of your notebook to your IT-211 GitHub (File > Save to GitHub).\n",
        "   * Send me the link to your file in github to complete this assignment.\n",
        "   * If you get stuck, ask on Slack!"
      ]
    }
  ]
}
