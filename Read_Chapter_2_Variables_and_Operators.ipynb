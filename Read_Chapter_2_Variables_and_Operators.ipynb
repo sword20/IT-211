{
  "nbformat": 4,
  "nbformat_minor": 0,
  "metadata": {
    "colab": {
      "name": "Read Chapter 2 - Variables and Operators.ipynb",
      "private_outputs": true,
      "provenance": [],
      "collapsed_sections": [],
      "include_colab_link": true
    },
    "kernelspec": {
      "name": "python3",
      "display_name": "Python 3"
    }
  },
  "cells": [
    {
      "cell_type": "markdown",
      "metadata": {
        "id": "view-in-github",
        "colab_type": "text"
      },
      "source": [
        "<a href=\"https://colab.research.google.com/github/sword20/IT-211/blob/main/Read_Chapter_2_Variables_and_Operators.ipynb\" target=\"_parent\"><img src=\"https://colab.research.google.com/assets/colab-badge.svg\" alt=\"Open In Colab\"/></a>"
      ]
    },
    {
      "cell_type": "markdown",
      "metadata": {
        "id": "ixe7yw4GepMQ"
      },
      "source": [
        "Read Chapter 2 of Think Java, 2nd Edition, answer questions 1-17 and complete labs 2-2 OR 2-3 in a copy of this notebook. Space, structure, and additional info will be provided for the labs in this notebook, but the overall instructions will be in the book towards the end of Chapter.\n",
        "\n",
        "Chapter 2: https://learning.oreilly.com/library/view/think-java-2nd/9781492072492/ch02.html\n",
        "\n",
        "\n",
        "Don't worry if the concepts in this chapter don't make sense yet, they will become familiar by the end of class, I promise!\n",
        "\n",
        "Reminder: to edit a text block or a code block you can double click on it, or hover over it and press the pencil in the upper right hand corner.\n",
        "\n",
        "Note: to complete the two labs you will need to work with codeblocks in your copy of the notebook.\n",
        "\n",
        "Please save frequently! I don't want you to lose your work. Go to File > Save. The first time you do this it will tell you it is making a copy. Say yes that you want to save the changes to your copy.\n",
        "When you're done, save your notebook (File > Save) and then save a copy of your notebook to GitHub (File > Save to GitHub).\n",
        "Send me the link to your file in GitHub to complete this assignment.\n",
        "\n",
        "*If you get stuck, ask on Slack!*"
      ]
    },
    {
      "cell_type": "markdown",
      "metadata": {
        "id": "wHgQ4zf4fl64"
      },
      "source": [
        "#Questions\n",
        "\n",
        "1. What is a variable?\n",
        "\n",
        "A: It is a named location in memory that stores a value.\n",
        "\n",
        "2. What is an operator?  List four examples (we covered this in class, but if the answer isn't coming to you, you can find examples later in the chapter).\n",
        "\n",
        "A: Operators are symbols that represent simple computations. Examples include: The plus sign(+) for addition, a hyphen(-) for subtraction, the astrisk(*) for multiplication and the forwardslash(/) for division\n",
        "\n",
        "3. How do you declare multiple variables at once?\n",
        "\n",
        "A: Separate them with a comma\n",
        "```\n",
        "// Put your answer to question 3 on the blank line below so that it is formatted correctly:\n",
        "variable1, variable2\n",
        "```\n",
        "\n",
        "\n",
        "4. What are the 'case' (upper and lower case) conventions for variable names?  How do they differ from Class names?\n",
        "\n",
        "A: For variables it is conventional to start with a lowercase letter for the first word and every subsequent word is with a uppercase. Variable names are case sensitive. Class names all start with a uppercase\n",
        "\n",
        "5. When you declare a variable, what are you doing in memory (storage)?\n",
        "\n",
        "A: The declaration is storing the names, data type and value of the variable n to memory.\n",
        "\n",
        "6. When you assign a variable, what are you putting in that storage (memory) space?\n",
        "\n",
        "A: You are updating the value in the storage.\n",
        "\n",
        "7. What is a program's 'state'?\n",
        "\n",
        "A: It is the variables and values in the program.\n",
        "\n",
        "8. How do you display the name of a variable instead of its value?\n",
        "\n",
        "A: You put it in quotes.\n",
        "\n",
        "9. What is an expression?\n",
        "\n",
        "A: A combination of variables, numbers and operators.\n",
        "\n",
        "10. What is an operand?  \n",
        "\n",
        "A: It is the value that operators work with.\n",
        "\n",
        "11.  If you want to perform division that will result in decimals, what datatype should you use?\n",
        "\n",
        "A: double\n",
        "\n",
        "12. Assigning a value to a double this way `double y = 1 / 16;` is incorrect, what is the correct way to assign it?\n",
        "\n",
        "A: double y = 1.0 / 16.0;\n",
        "\n",
        "13. Float-point numbers round, which is fine for most things, but if you need absolute precision in your numbers, with no rounding, what does the book recommend doing?\n",
        "\n",
        "A: Calculate as a percentage.\n",
        "\n",
        "14. What will the + operator do when put between two Strings (not ints)?\n",
        "\n",
        "A: Concatenate the 2 strings\n",
        "```\n",
        "Example: \n",
        "String hi = \"Hi there\"; \n",
        "String bang = \"!\";\n",
        "String hello = hi + bang;\n",
        "\n",
        "```\n",
        "\n",
        "What would the value of `hello` be?\n",
        "\n",
        "A: Hi there!\n",
        "\n",
        "15. How do you override the order of operations?\n",
        "\n",
        "A: Use Parentheses so the program computes that first.\n",
        "\n",
        "16. What are the three kinds of errors?\n",
        "\n",
        "A: Compile-time Error, Run-time Error and Logic Error\n",
        "\n",
        "17. Define the three kinds of errors and say when they occur.\n",
        "\n",
        "A: Compile-time Error is when you violate java rules such as not pairing parentheses or missing a semi-colon.\n",
        "\n",
        "Run-time error is when the rpogram is running and the interpreter is runs the code and something goes wrong.\n",
        "\n",
        "Logic Errors occur when there are no code errors but it prints exactly what you tell it to with the result you werent expecting.\n",
        "\n",
        "\n"
      ]
    },
    {
      "cell_type": "markdown",
      "metadata": {
        "id": "Eo-YG1Yl6pKY"
      },
      "source": [
        "#Labs - You only have to do one!\n",
        "\n",
        "Please note, you do not need to do both labs, only one or the other!!  Choose either 2-2 or 2-3 to complete below.  You are, of course welcome to do both if you want the practice, but I don't want to snow you with work.  "
      ]
    },
    {
      "cell_type": "markdown",
      "metadata": {
        "id": "N84OPA4gypE4"
      },
      "source": [
        "#Exercise 2-2 (Lab)\n",
        "\n",
        "Find and read the instructions for Exercise 2-2 towards the end of Chapter 2.  Though the book asks you to work from scratch, I have provided some starting code below.  If you get stuck, or have any questions, let me know!  You do not need to use my starting code if you don't want to.  There are many ways to solve this problem."
      ]
    },
    {
      "cell_type": "code",
      "metadata": {
        "id": "rsFKw3dezMTb"
      },
      "source": [
        "%%writefile Date.java\n",
        "// Note that we can set variables manually in this program instead of taking input from a user or a text file\n",
        "// So we don't need to import Scanner\n",
        "public class Date {\n",
        "    public static void main (String [] args) {\n",
        "        String day = \"Sunday\";           // Put an = after day to assign a value to it.  Day should contain the current day of the week (like Friday).\n",
        "        String date = \"17\";          // Put an = after date to assign a value to it.  date will contain the current day of the month (like the 13th).\n",
        "        String month = \"January\";         // Put an = after month to assign a value to it.  month will contain the current month.\n",
        "        String year = \"2021\";          // Put an = after year to assign a value to it.  year will contain the current year.\n",
        "\n",
        "        // Modify this println output to display today's date when printed.  You can use text to explain it.  \n",
        "        // Remember that text will go in quotes \"like this\" and you can add variable values to it like this:\n",
        "        // \"today is \" + day + \"it is a good day.\"  When you're done, make sure it compiles and runs before moving on.\n",
        "        System.out.println(\"Today is \" + day + \", it is the last week of Sunday Football before NFL conference championships.\");\n",
        "\n",
        "        // Now output the date in the standard american format, for example: Thursday, July 18, 2019.\n",
        "        System.out.println(\"American Format: \" + day + \", \" + month + \" \" + date + \", \" + year + \".\");\n",
        "\n",
        "        // Now print the date in the standard european format, for example: Thursday 18 July 2019\n",
        "        System.out.println(\"European Format: \" + day + \" \" + date + \" \" + month + \" \" + year + \".\");\n",
        "\n",
        "      \n",
        "    }\n",
        "\n",
        "}"
      ],
      "execution_count": null,
      "outputs": []
    },
    {
      "cell_type": "code",
      "metadata": {
        "id": "KO2E3dzP2fJK"
      },
      "source": [
        "!javac Date.java\n",
        "!java Date"
      ],
      "execution_count": null,
      "outputs": []
    },
    {
      "cell_type": "markdown",
      "metadata": {
        "id": "ezZF8AcK3BBZ"
      },
      "source": [
        "#Exercise 2-3 (Lab)\n",
        "\n",
        "Find and read the instructions for Exercise 2-3 towards the end of Chapter 2. Though the book asks you to work from scratch, I have provided some starting code below. If you get stuck, or have any questions, let me know! You do not need to use my starting code if you don't want to. There are many ways to solve this problem"
      ]
    },
    {
      "cell_type": "code",
      "metadata": {
        "id": "aJraTKWb3OaQ"
      },
      "source": [
        "%%writefile Time.java\n",
        "// Note that we can set variables manually in this program instead of taking input from a user or a text file\n",
        "// So we don't need to import Scanner\n",
        "public class Time {\n",
        "    public static void main (String [] args) {\n",
        "        String hour = \"12\";             // Use an = sign to assign the current hour to this variable.  \n",
        "        String minute = \"20\";           // Use an = sign to assign the current minute to this variable.  Use a 24-hour clock so that at 2 p.m. the value of hour is 14.\n",
        "        String second = \"35\";           // Use an = sign to assign the current second to this variable.\n",
        "\n",
        "//Part 1\n",
        "        double seconds = 35.0;\n",
        "        double minToSec = 20*60;        //60 seconds in 1 minute\n",
        "        double hourToSec = 12*3600;     //3600 seconds in 1 hour\n",
        "        double secInDay = 86400.0;      //86400 seconds in a day\n",
        "\n",
        "        double secondsLeft = (secInDay - (seconds + minToSec + hourToSec) );\n",
        "\n",
        "//Part 2\n",
        "        double percentPassed = ((secondsLeft / secInDay) *100);\n",
        "\n",
        "//Part 3\n",
        "        double startHour = 12*3600;\n",
        "        double startMinute = 20*60;\n",
        "        double startSecond = 35.0;\n",
        "        double nowHour = 13*3600;\n",
        "        double nowMinute = 28*60;\n",
        "        double nowSecond = 49.0;\n",
        "\n",
        "        double hourElapsed = ((nowHour - startHour) / 3600);\n",
        "        double minuteElapsed = ((nowMinute - startMinute) / 60);\n",
        "        double secondElapsed = (nowSecond - startSecond);\n",
        "\n",
        "        // The code for printing hour and minute, and for calculating hour of minutes since midnight can be found here:\n",
        "        // It uses the same vars, so you should be able to cp/paste.  https://learning.oreilly.com/library/view/Think+Java,+2nd+Edition/9781492072492/ch02.html#sec..printvar\n",
        "            System.out.print(\"The current time is \");\n",
        "            System.out.print(hour);\n",
        "            System.out.print(\":\");\n",
        "            System.out.print(minute);\n",
        "            System.out.print(\":\");\n",
        "            System.out.print(second);\n",
        "            System.out.println(\".\");\n",
        "\n",
        "\n",
        "        // Make sure you run and compile the above then implement ONE of the following (you can implement more if you want, but you don't have to).\n",
        "        // 1) Calculate and display the number of seconds remaining in the day.\n",
        "        // 2) Calculate and display the percentage of the day that has passed. You might run into problems when computing percentages with integers, so consider using floating-point.\n",
        "        // 3) Change the values of hour, minute, and second to reflect the current time. Then write code to compute the elapsed time since you started working on this exercise.\n",
        "        // If you get stuck, ask me questions on Slack!  And let me know about the difficulty of these assignments as well. \n",
        "  \n",
        "    //Part 1\n",
        "             System.out.printf(\"1. There are \" + \"%.0f\", secondsLeft);\n",
        "             System.out.print(\" seconds left in the day.\");\n",
        "    //Part 2\n",
        "             System.out.printf(\"\\n2. \" + \"%.2f\", percentPassed);\n",
        "             System.out.print(\"% of the day has passed.\");\n",
        "    //Part 3\n",
        "             System.out.printf(\"\\n3. It has been \" + \"%.0f\", hourElapsed);\n",
        "             System.out.print(\" hour, \");\n",
        "             System.out.printf(\"%.0f\", minuteElapsed);\n",
        "             System.out.print(\" minutes, and \");\n",
        "             System.out.printf(\"%.0f\", secondElapsed);\n",
        "             System.out.print(\" seconds since I began this part 3 of this exercise.\");\n",
        "            \n",
        "\n",
        "    }\n",
        "}"
      ],
      "execution_count": null,
      "outputs": []
    },
    {
      "cell_type": "code",
      "metadata": {
        "id": "Ok2Gpp825tQ6"
      },
      "source": [
        "!javac Time.java\n",
        "!java Time"
      ],
      "execution_count": null,
      "outputs": []
    },
    {
      "cell_type": "markdown",
      "metadata": {
        "id": "6hJv7hCSe0tX"
      },
      "source": [
        "#Reminder\n",
        "\n",
        "* When you're done, save your notebook (File > Save) and then save a copy of your notebook to your IT-211 GitHub (File > Save to GitHub).\n",
        "* Send me the link to your file in GitHub to complete this assignment.\n",
        "* If you get stuck, ask on Slack!"
      ]
    }
  ]
}