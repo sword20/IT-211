{
  "nbformat": 4,
  "nbformat_minor": 0,
  "metadata": {
    "colab": {
      "name": "Week2.ipynb",
      "private_outputs": true,
      "provenance": [],
      "collapsed_sections": [],
      "include_colab_link": true
    },
    "kernelspec": {
      "name": "python3",
      "display_name": "Python 3"
    }
  },
  "cells": [
    {
      "cell_type": "markdown",
      "metadata": {
        "id": "view-in-github",
        "colab_type": "text"
      },
      "source": [
        "<a href=\"https://colab.research.google.com/github/sword20/IT-211/blob/main/Week2.ipynb\" target=\"_parent\"><img src=\"https://colab.research.google.com/assets/colab-badge.svg\" alt=\"Open In Colab\"/></a>"
      ]
    },
    {
      "cell_type": "markdown",
      "metadata": {
        "id": "7yiqcKoEDvYr"
      },
      "source": [
        "This is a place for your notes and code examples.  Here's a demo, which you should feel free to delete:\n",
        "<br>\n",
        "<br>\n",
        "<br>"
      ]
    },
    {
      "cell_type": "markdown",
      "metadata": {
        "id": "VvMZoAr_jG0G"
      },
      "source": [
        "https://google.github.io/styleguide/javaguide.html#s4.6-whitespace\r\n",
        "\r\n",
        "https://www.oracle.com/java/technologies/javase/codeconventions-indentation.html\r\n",
        "\r\n",
        "Code Reference: https://www.w3schools.com/java/java_user_input.asp\r\n",
        "\r\n"
      ]
    },
    {
      "cell_type": "code",
      "metadata": {
        "id": "6pRhkPD1jU9N"
      },
      "source": [
        "%%writefile Input.java\r\n",
        "import java.util.Scanner;\r\n",
        "public class Input {                          \r\n",
        "  public static void main(String [] args) {  \r\n",
        "    Scanner scnr = new Scanner(System.in);       // Create a Scanner object\r\n",
        "    System.out.println(\"What's your name?\");\r\n",
        "    //String name = scnr.next();                   // Capture command-line input and put it into the name variable\r\n",
        "    String fullName = scnr.nextLine();               //nexLine prints everything until the next line of code.\r\n",
        "                             \r\n",
        "   \r\n",
        "    System.out.println(\"My name is \" + fullName);    // Print \"My name is\" followed by the name the user entered.\r\n",
        "  }\r\n",
        "}"
      ],
      "execution_count": null,
      "outputs": []
    },
    {
      "cell_type": "code",
      "metadata": {
        "id": "9Zex4jZQkBNV"
      },
      "source": [
        "!javac Input.java\r\n",
        "!echo \"Emmanuel Sword\" > test\r\n",
        "!java Input < test"
      ],
      "execution_count": null,
      "outputs": []
    },
    {
      "cell_type": "code",
      "metadata": {
        "id": "qt0LyFsapLep"
      },
      "source": [
        "%%writefile Input.java\r\n",
        "import java.util.Scanner;\r\n",
        "\r\n",
        "//Goal: Calculator\r\n",
        "\r\n",
        "public class Input {                          \r\n",
        "  public static void main(String [] args) {  \r\n",
        "    Scanner calc = new Scanner(System.in);                      //Create a Scanner object\r\n",
        "    \r\n",
        "    System.out.println(\"What is your first number?\");\r\n",
        "      int firstNumber = calc.nextInt();                         //Get int from user and put in firstNumber\r\n",
        "\r\n",
        "    System.out.println(\"What is your second number?\");\r\n",
        "      int secondNumber = calc.nextInt();                        //Get int from user and put in secondNumber\r\n",
        "\r\n",
        "    System.out.println(\"Now we will add your numbers!\");\r\n",
        "      int myAnswer = firstNumber + secondNumber;                //Add both numbers together and put in myAnswer\r\n",
        "                             \r\n",
        "   \r\n",
        "    System.out.println(\"My number is \" + firstNumber + \".\\nMy second number is \" + secondNumber + \". \\nAdded together they equal \" + myAnswer + \".\");   \r\n",
        "  }\r\n",
        "}"
      ],
      "execution_count": null,
      "outputs": []
    },
    {
      "cell_type": "code",
      "metadata": {
        "id": "V-mrytzPqUM6"
      },
      "source": [
        "!javac Input.java\r\n",
        "!echo -e \"22\\n30\" > test\r\n",
        "!cat test\r\n",
        "!java Input < test"
      ],
      "execution_count": null,
      "outputs": []
    },
    {
      "cell_type": "markdown",
      "metadata": {
        "id": "xZwCKYMDoVBV"
      },
      "source": [
        "Begining of Wednesday class."
      ]
    },
    {
      "cell_type": "code",
      "metadata": {
        "id": "aqPLhJ9Brjcq"
      },
      "source": [
        "%%writefile Input.java\r\n",
        "import java.util.Scanner;\r\n",
        "\r\n",
        "// Goal: Build a Calculator\r\n",
        "//Expectation: punch in numbers instead of being prompted (maybe promoted once, but not twice)\r\n",
        "//Expectation: only reults of operator punched in\r\n",
        "// ? Scientific notation translator: 9.313225746154785E20 931322574615478500000 (example)\r\n",
        "//Figure out how to enter something like: 2 + 4 and get just 6 as the output.\r\n",
        "//If/then & Switch\r\n",
        "\r\n",
        "public class Input {                          \r\n",
        "    public static void main(String [] args) {  \r\n",
        "        Scanner randomScanner = new Scanner(System.in);       // Create a Scanner object\r\n",
        "\r\n",
        "        System.out.println(\"Enter your first number:\");       // Scans for first number and stores it as firstNumber.\r\n",
        "        double firstNumber = randomScanner.nextDouble();\r\n",
        "\r\n",
        "        System.out.println(\"Enter your second number:\");      // Scans for second number and stores it as secondNumber.\r\n",
        "        double secondNumber = randomScanner.nextDouble();\r\n",
        "\r\n",
        "\r\n",
        "        double myAnswer = firstNumber + secondNumber;             // Adds those numbers together and stores the answer as myAnswer.\r\n",
        "        double myAnswer2 = firstNumber - secondNumber;            //Subtracts second number from first\r\n",
        "        double myAnswer3 = firstNumber * secondNumber;            //Multiplies first number by second\r\n",
        "        double myAnswer4 = firstNumber / secondNumber;            //Divides first number by second number\r\n",
        "        double myAnswer5 = Math.pow(firstNumber, secondNumber);   //Raise the first number to the power of the second number\r\n",
        "\r\n",
        "       \r\n",
        "        System.out.println(\"My first number is \" + firstNumber + \".\\nMy second number is \" + secondNumber + \".\\nAddition: \" + myAnswer + \".\\nSubtraction: \" + myAnswer2 + \".\\nMultiplication: \" + myAnswer3 + \".\\nDivision: \" + myAnswer4 + \". \\nExponent: \" + myAnswer5 + \".\");\r\n",
        "\r\n",
        "  }\r\n",
        "}"
      ],
      "execution_count": null,
      "outputs": []
    },
    {
      "cell_type": "code",
      "metadata": {
        "id": "72GLXVesqxJ3"
      },
      "source": [
        "!javac Input.java\r\n",
        "!echo -e \"5.0\\n30\" > test\r\n",
        "!cat test\r\n",
        "!java Input < test"
      ],
      "execution_count": null,
      "outputs": []
    },
    {
      "cell_type": "code",
      "metadata": {
        "id": "C1iwTduXEVFm"
      },
      "source": [
        "%%writefile MyNotes.java\n",
        "public class MyNotes {\n",
        "    public static void main (String[] args) {\n",
        "        System.out.println (\"My notes have working code in them!\");\n",
        "    }\n",
        "}"
      ],
      "execution_count": null,
      "outputs": []
    },
    {
      "cell_type": "code",
      "metadata": {
        "id": "jRzZxWlTEgN7"
      },
      "source": [
        "!javac MyNotes.java\n",
        "!java MyNotes"
      ],
      "execution_count": null,
      "outputs": []
    },
    {
      "cell_type": "markdown",
      "metadata": {
        "id": "CER-3tJ3Dotl"
      },
      "source": [
        "You only need to run the code below if you want to use Java 12. You won't need the special new properties of Java 12 for most of the class, but be aware that our GitHub Classroom tests run on Java 12."
      ]
    },
    {
      "cell_type": "code",
      "metadata": {
        "id": "jT9yfcqCDeC5"
      },
      "source": [
        "!sudo add-apt-repository ppa:openjdk-r/ppa -y\n",
        "!sudo apt-get update -y -q\n",
        "!sudo apt-get install openjdk-12-jre-headless -y -q\n",
        "!echo \"0\" | sudo update-alternatives --config java\n",
        "!java -version"
      ],
      "execution_count": null,
      "outputs": []
    }
  ]
}